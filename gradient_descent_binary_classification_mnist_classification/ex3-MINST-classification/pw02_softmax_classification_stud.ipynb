{
 "cells": [
  {
   "cell_type": "code",
   "execution_count": null,
   "outputs": [],
   "source": [],
   "metadata": {
    "collapsed": false,
    "pycharm": {
     "name": "#%%\n"
    }
   }
  },
  {
   "cell_type": "code",
   "execution_count": null,
   "outputs": [],
   "source": [
    "Group 20 members:\n",
    "- Janick Michot:          michojan@students.zhaw.ch\n",
    "- Andre von Aarburg :     andre.vonaarbrug@ost.ch\n",
    "- Manuel Weiss:           weissman@students.zhaw.ch"
   ],
   "metadata": {
    "collapsed": false,
    "pycharm": {
     "name": "#%%\n"
    }
   }
  },
  {
   "cell_type": "code",
   "execution_count": 2,
   "outputs": [],
   "source": [
    "from datetime import datetime\n",
    "import torch\n",
    "from torch.utils.data import DataLoader\n",
    "from torchvision import datasets\n",
    "from torchvision.transforms import ToTensor\n",
    "from torchinfo import summary\n",
    "import matplotlib.pyplot as plt"
   ],
   "metadata": {
    "collapsed": false,
    "pycharm": {
     "name": "#%%\n"
    }
   }
  },
  {
   "cell_type": "markdown",
   "id": "115e944d-1923-476f-bc7f-777a584fa294",
   "metadata": {
    "tags": []
   },
   "source": [
    "### Loading the Data\n",
    "\n",
    "Click through the cells below to load the MNIST dataset and learn how to access its samples."
   ]
  },
  {
   "cell_type": "markdown",
   "id": "e2d8a986-1cb2-483b-9bd8-0f71d69fa9e8",
   "metadata": {},
   "source": [
    "#### Dataset"
   ]
  },
  {
   "cell_type": "code",
   "execution_count": 3,
   "id": "042ff291-ba77-4deb-83b5-ca4a4f84c6b7",
   "metadata": {},
   "outputs": [],
   "source": [
    "training_data = datasets.MNIST(\n",
    "    root='data',\n",
    "    train=True,\n",
    "    download=True,\n",
    "    transform=ToTensor()\n",
    ")\n",
    "\n",
    "test_data = datasets.MNIST(\n",
    "    root='data',\n",
    "    train=False,\n",
    "    download=True,\n",
    "    transform=ToTensor()\n",
    ")"
   ]
  },
  {
   "cell_type": "code",
   "execution_count": 4,
   "id": "bead1c06-3cf0-4b28-bfa5-5fe83fcb0c09",
   "metadata": {},
   "outputs": [
    {
     "name": "stdout",
     "output_type": "stream",
     "text": [
      "60000\n",
      "<class 'torch.Tensor'> torch.Size([1, 28, 28]) torch.float32\n",
      "<class 'int'> 2\n"
     ]
    }
   ],
   "source": [
    "print(len(training_data))\n",
    "x, y = training_data[5]\n",
    "print(type(x), x.shape, x.dtype)\n",
    "print(type(y), y)"
   ]
  },
  {
   "cell_type": "markdown",
   "id": "c4c0c1cf-ee9d-4f39-80f9-dc87419ca16d",
   "metadata": {},
   "source": [
    "#### Depict samples"
   ]
  },
  {
   "cell_type": "code",
   "execution_count": 5,
   "id": "a9938792-243b-43eb-a0e9-01ee61e45f5d",
   "metadata": {},
   "outputs": [
    {
     "data": {
      "text/plain": "<Figure size 576x576 with 9 Axes>",
      "image/png": "[encoded data removed]"
     },
     "metadata": {
      "needs_background": "light"
     },
     "output_type": "display_data"
    }
   ],
   "source": [
    "figure = plt.figure(figsize=(8, 8))\n",
    "cols, rows = 3, 3\n",
    "for i in range(1, cols * rows + 1):\n",
    "    sample_idx = torch.randint(len(training_data), size=(1,)).item()\n",
    "    img, label = training_data[sample_idx]\n",
    "    figure.add_subplot(rows, cols, i)\n",
    "    plt.title(\"Label %i (sample %i)\"%(label,sample_idx))\n",
    "    plt.axis(\"off\")\n",
    "    plt.imshow(img.squeeze(), cmap='gray')\n",
    "plt.show()"
   ]
  },
  {
   "cell_type": "markdown",
   "id": "876863a4-933c-4994-97c7-66965fdc6d5b",
   "metadata": {},
   "source": [
    "#### Data Loader (see lecture)"
   ]
  },
  {
   "cell_type": "code",
   "execution_count": 6,
   "id": "b76a6393-4f06-4775-b9a3-cf0f30140617",
   "metadata": {},
   "outputs": [],
   "source": [
    "train_dataloader = DataLoader(training_data, batch_size=64, shuffle=True)"
   ]
  },
  {
   "cell_type": "code",
   "execution_count": 7,
   "id": "31b5829a-0c1f-4f26-9e78-d2205a1611ca",
   "metadata": {},
   "outputs": [
    {
     "name": "stdout",
     "output_type": "stream",
     "text": [
      "Feature batch shape: torch.Size([64, 1, 28, 28])\n",
      "Labels batch shape: torch.Size([64])\n"
     ]
    }
   ],
   "source": [
    "data_train, labels_train = next(iter(train_dataloader))\n",
    "print(f\"Feature batch shape: {data_train.shape}\")\n",
    "print(f\"Labels batch shape: {labels_train.shape}\")"
   ]
  },
  {
   "cell_type": "code",
   "execution_count": 8,
   "id": "c55ec26d-ba62-4b79-b4e3-0fb86a6cb65f",
   "metadata": {},
   "outputs": [
    {
     "name": "stdout",
     "output_type": "stream",
     "text": [
      "torch.Size([1, 28, 28])\n",
      "torch.Size([28, 28])\n"
     ]
    },
    {
     "data": {
      "text/plain": "<Figure size 432x288 with 1 Axes>",
      "image/png": "[encoded data removed]"
     },
     "metadata": {
      "needs_background": "light"
     },
     "output_type": "display_data"
    }
   ],
   "source": [
    "\n",
    "img = data_train[0]\n",
    "print(img.shape)\n",
    "\n",
    "# As you can see squeeze removes the unnecessary dimensions of size 1\n",
    "# -> the single channel img of shape (1, 28, 28) gets reduced to (28, 28)\n",
    "img = img.squeeze()\n",
    "\n",
    "print(img.shape)\n",
    "label = labels_train[0]\n",
    "plt.imshow(img, cmap=\"gray\")\n",
    "plt.title(f\"Label: {label}\")\n",
    "plt.show()"
   ]
  },
  {
   "cell_type": "markdown",
   "id": "a7776e74-56d3-4988-ae15-ddfaae9f6d35",
   "metadata": {},
   "source": [
    "### Multinomial Logistic Regression\n",
    "\n",
    "Now, implement the model, i.e. multinomial logistic regression and the loss/cost function (cross-entropy cost).\n",
    "\n",
    "To that end, implement the python functions below. \n",
    "All arguments are pytorch tensors with indicated shapes."
   ]
  },
  {
   "cell_type": "code",
   "execution_count": 9,
   "id": "0c1db699-d593-4f8a-9f63-177117afa932",
   "metadata": {},
   "outputs": [],
   "source": [
    "import torch.nn as nn\n",
    "def linear_trsf(x,W,b):\n",
    "    \"\"\"\n",
    "    x -- tensor with shape (nb,1,28,28)\n",
    "    W -- tensor with shape (10,28*28)\n",
    "    b -- tensor with shape (1,10)\n",
    "    \"\"\"\n",
    "    # YOUR CODE (START)\n",
    "\n",
    "    nb = x.shape[0]\n",
    "    x1 = x.view(nb, -1) # flatten\n",
    "\n",
    "    return x1@W.T+b\n",
    "    \n",
    "    # YOUR CODE (END)\n",
    "\n",
    "def softmax(z):\n",
    "    \"\"\"\n",
    "    z -- tensor of shape (nb,10)\n",
    "    \"\"\"\n",
    "    s = torch.exp(z)\n",
    "    s_exp_sum = torch.sum(s, dim=1, keepdim=True)\n",
    "    return s/s_exp_sum\n",
    "    \n",
    "    # YOUR CODE (END)\n",
    "    \n",
    "def predict(x,W,b):\n",
    "    \"\"\"\n",
    "    x -- tensor with shape (nb,1,28,28)\n",
    "    W -- tensor with shape (10,28*28)\n",
    "    b -- tensor with shape (1,10)\n",
    "    \"\"\"\n",
    "    # YOUR CODE (START)\n",
    "    return softmax(linear_trsf(x, W, b))\n",
    "    # YOUR CODE (END)\n"
   ]
  },
  {
   "cell_type": "code",
   "execution_count": 101,
   "outputs": [
    {
     "name": "stdout",
     "output_type": "stream",
     "text": [
      "x1 shape torch.Size([64, 784])\n",
      "W shape torch.Size([10, 784])\n",
      "W.T shape torch.Size([784, 10])\n",
      "torch.Size([64, 10])\n"
     ]
    }
   ],
   "source": [
    "W,b = torch.randn((10,28*28)), torch.zeros((1,10))\n",
    "X0 = torch.stack([x, x, x, x, x, x, x, x, x, x, x, x, x, x, x, x, x, x, x, x, x, x, x, x, x, x, x, x, x, x, x, x, x, x, x, x, x, x, x, x, x, x, x, x, x, x, x, x, x, x, x, x, x, x, x, x, x, x, x, x, x, x, x, x], dim=0)\n",
    "u = predict(X0, W, b)\n",
    "\n",
    "t = torch.sum(u)\n",
    "t_single = torch.sum(u[0,:])\n",
    "\n",
    "\n",
    "\n",
    "\n",
    "nb = X0.shape[0]\n",
    "\n",
    "x1 = X0.view(nb, -1)\n",
    "\n",
    "\n",
    "l = x1@W.T+b\n",
    "\n",
    "print(u.shape)\n",
    "\n"
   ],
   "metadata": {
    "collapsed": false,
    "pycharm": {
     "name": "#%%\n"
    }
   }
  },
  {
   "cell_type": "markdown",
   "id": "68031839-586e-4969-a536-ae9d3c05cd4d",
   "metadata": {},
   "source": [
    "##### TEST"
   ]
  },
  {
   "cell_type": "code",
   "execution_count": 25,
   "id": "04f01d24-401d-411b-bc9e-a4612dbb2fc6",
   "metadata": {},
   "outputs": [
    {
     "name": "stdout",
     "output_type": "stream",
     "text": [
      "torch.Size([10, 784]) torch.Size([1, 10])\n",
      "torch.Size([1, 10]) 1.0\n"
     ]
    }
   ],
   "source": [
    "W,b = torch.randn((10,28*28)), torch.zeros((1,10))\n",
    "print(W.shape,b.shape)\n",
    "u = predict(x,W,b)\n",
    "print(u.shape, torch.sum(u).item())"
   ]
  },
  {
   "cell_type": "markdown",
   "id": "f417988d-95f1-4c87-86ad-ae3df68a756f",
   "metadata": {},
   "source": [
    "#### Loss Function"
   ]
  },
  {
   "cell_type": "code",
   "execution_count": 45,
   "id": "7aa23d20-608a-47cc-b73d-d75d71c69a3d",
   "metadata": {},
   "outputs": [],
   "source": [
    "def loss_ce(_y, _uhat):\n",
    "    \"\"\"\n",
    "    y -- tensor with shape (nb,1) and possible values (0,1,2,3,4,5,6,7,8,9)\n",
    "    uhat -- tensor with shape (nb,10)\n",
    "    returns -- per sample loss \n",
    "    \"\"\"\n",
    "    # YOUR CODE (START)\n",
    "    nb = _y.shape[0]\n",
    "\n",
    "    return -torch.log(_uhat[torch.arange(nb), _y[:]])\n",
    "\n",
    "\n",
    "    # YOUR CODE (END)\n",
    "\n",
    "def cost_ce(_y,_uhat):\n",
    "    \"\"\"\n",
    "    y -- tensor with shape (nb,1) and possible values (0,1,2,3,4,5,6,7,8,9)\n",
    "    uhat -- tensor with shape (nb,10)\n",
    "    return -- per batch mean of losses\n",
    "    \"\"\"\n",
    "    # YOUR CODE (START)    \n",
    "    return torch.mean(loss_ce(_y, _uhat))\n",
    "    \n",
    "    # YOUR CODE (END)\n"
   ]
  },
  {
   "cell_type": "markdown",
   "id": "ed4385a6-d5e7-4048-a3b7-40607e2d956d",
   "metadata": {},
   "source": [
    "##### TEST"
   ]
  },
  {
   "cell_type": "code",
   "execution_count": 32,
   "id": "13bafc12-db4b-4d2b-a048-ebd45366ba6f",
   "metadata": {
    "tags": []
   },
   "outputs": [
    {
     "name": "stdout",
     "output_type": "stream",
     "text": [
      "tensor([2.4076, 1.0986]) tensor(1.7531)\n"
     ]
    }
   ],
   "source": [
    "import numpy as np\n",
    "y = torch.tensor([0,2])\n",
    "z = torch.tensor([[1.,2, 3],[2,2,2]]).reshape(-1,3)\n",
    "uhat = softmax(z)\n",
    "print(loss_ce(y,uhat), cost_ce(y,uhat))\n",
    "\n"
   ]
  },
  {
   "cell_type": "markdown",
   "id": "0a4c00be-22f3-4f78-8079-21f455e83abc",
   "metadata": {},
   "source": [
    "### Gradient Descent for the given Model\n",
    "\n",
    "For the training, we adopt gradient descent - and start with the implementation of the gradient of the cost function (cross-entropy cost function).  "
   ]
  },
  {
   "cell_type": "markdown",
   "id": "a3576b66-3fcd-4cff-b6a2-1e14d1ba7789",
   "metadata": {
    "tags": []
   },
   "source": [
    "#### Gradient"
   ]
  },
  {
   "cell_type": "code",
   "execution_count": 44,
   "id": "ad97d05e-9b97-4cef-ad74-728875a717b9",
   "metadata": {
    "tags": []
   },
   "outputs": [],
   "source": [
    "def grad_loss_ce(x,u,uhat):\n",
    "    \"\"\"\n",
    "    x -- tensor with shape (nb,1, 28*28)\n",
    "    u -- tensor with shape (nb,10)\n",
    "    uhat -- tensor with shape (nb,10)\n",
    "    returns -- gradW, gradb (same dimension as W and b)\n",
    "    \"\"\"\n",
    "    # YOUR CODE (START)\n",
    "\n",
    "    gradW = torch.mean((uhat-u).view(-1, 10, 1)*x.view(-1, 1, 28*28), dim=0)\n",
    "    gradb = torch.mean((uhat-u), dim=0)\n",
    "    return gradW, gradb\n",
    "    \n",
    "    # YOUR CODE (END)"
   ]
  },
  {
   "cell_type": "markdown",
   "id": "9101058b-0699-454b-bee0-bd4efb729575",
   "metadata": {
    "tags": []
   },
   "source": [
    "#### Metrics - Cost, Accuracy\n",
    "\n",
    "For tracking the progress of the training, we will use two functions: the cost and the accuracy."
   ]
  },
  {
   "cell_type": "code",
   "execution_count": null,
   "outputs": [],
   "source": [
    "def get_u(Y, classcount):\n",
    "    return (Y.view(-1, 1) == torch.arange(classcount).view(1, classcount)).float()"
   ],
   "metadata": {
    "collapsed": false,
    "pycharm": {
     "name": "#%%\n"
    }
   }
  },
  {
   "cell_type": "code",
   "execution_count": 12,
   "outputs": [],
   "source": [
    "def metrics(_X,_Y,_W,_b):\n",
    "    \"\"\"\n",
    "    X -- tensor with shape (nb,1,28*28)\n",
    "    Y -- tensor with shape (nb,10)\n",
    "    W -- tensor with shape (10,28*28)\n",
    "    b -- tensor with shape (10,1)\n",
    "\n",
    "    return -- cost, acc (both scalars)\n",
    "    \"\"\"\n",
    "    # YOUR CODE (START)\n",
    "    _nb = _X.shape[0]\n",
    "    _uhat = predict(_X, _W, _b)\n",
    "    _cce = cost_ce(_Y, _uhat)\n",
    "    _acc = torch.sum((_Y == torch.argmax(_uhat, dim=1))).float() / _nb\n",
    "\n",
    "    return _cce.item(), _acc.item()\n",
    "\n",
    "\n",
    "    # YOUR CODE (END)"
   ],
   "metadata": {
    "collapsed": false,
    "pycharm": {
     "name": "#%%\n"
    }
   }
  },
  {
   "cell_type": "code",
   "execution_count": 51,
   "outputs": [
    {
     "name": "stdout",
     "output_type": "stream",
     "text": [
      "Epoch 0: cost 1.885265, cost_test 1.096310, acc 0.578467, acc_test 0.767000\n",
      "Epoch 1: cost 1.680067, cost_test 0.804644, acc 0.791133, acc_test 0.824500\n",
      "Epoch 2: cost 1.644505, cost_test 0.695687, acc 0.828250, acc_test 0.843800\n",
      "Epoch 3: cost 1.628044, cost_test 0.634306, acc 0.845350, acc_test 0.855900\n",
      "Epoch 4: cost 1.618353, cost_test 0.591840, acc 0.855067, acc_test 0.865100\n",
      "Epoch 5: cost 1.611571, cost_test 0.561386, acc 0.862650, acc_test 0.870300\n",
      "Epoch 6: cost 1.606682, cost_test 0.538688, acc 0.868533, acc_test 0.873300\n",
      "Epoch 7: cost 1.603244, cost_test 0.518782, acc 0.872533, acc_test 0.876600\n",
      "Epoch 8: cost 1.599938, cost_test 0.504458, acc 0.876650, acc_test 0.879000\n",
      "Epoch 9: cost 1.597280, cost_test 0.490679, acc 0.879700, acc_test 0.882900\n",
      "7.8622457\n"
     ]
    }
   ],
   "source": [
    "nepochs = 10\n",
    "alpha = 0.01\n",
    "nclasses = 10\n",
    "nbatch = 10\n",
    "\n",
    "cost_hist = []\n",
    "acc_hist = []\n",
    "cost_hist_test = []\n",
    "acc_hist_test = []\n",
    "\n",
    "nn_cost_ce = torch.nn.CrossEntropyLoss()\n",
    "\n",
    "# data loader\n",
    "train_dataloader = DataLoader(training_data, batch_size=nbatch, shuffle=True)\n",
    "\n",
    "# test data - we can load all samples for the test since it easily fits into memory\n",
    "Xtest,Ytest = next(iter(DataLoader(test_data, batch_size=10000, shuffle=True)))\n",
    "\n",
    "# initial parameters\n",
    "W,b = torch.randn((10,28*28)), torch.zeros((1,10))\n",
    "\n",
    "d0 = datetime.now()\n",
    "\n",
    "size = len(train_dataloader.dataset)\n",
    "num_batches = len(train_dataloader)\n",
    "\n",
    "for epoch in range(nepochs):\n",
    "    cost = 0.0\n",
    "    acc = 0\n",
    "    for X,Y in train_dataloader:\n",
    "        uhat = predict(X, W, b)\n",
    "\n",
    "        cost += nn_cost_ce(uhat, Y).item()\n",
    "        acc += (Y == uhat.argmax(dim = 1)).type(torch.float).sum().item()\n",
    "\n",
    "        u = (Y.view(-1, 1) == torch.arange(nclasses).view(1, nclasses)).float()\n",
    "\n",
    "        gradW, gradb = grad_loss_ce(X, u, uhat)\n",
    "        W = W - alpha * gradW\n",
    "        b = b - alpha * gradb\n",
    "\n",
    "    cost /= num_batches\n",
    "    cost_hist.append(cost)\n",
    "\n",
    "    acc /= size\n",
    "    acc_hist.append(acc)\n",
    "    cce_test, acc_test = metrics(Xtest, Ytest, W, b)\n",
    "    acc_hist_test.append(acc_test)\n",
    "    cost_hist_test.append(cce_test)\n",
    "\n",
    "    print(\"Epoch %i: cost %f, cost_test %f, acc %f, acc_test %f\"%(epoch, cost, cce_test, acc, acc_test))\n",
    "\n",
    "d = datetime.now()\n",
    "print((d-d0).total_seconds()/nepochs)"
   ],
   "metadata": {
    "collapsed": false,
    "pycharm": {
     "name": "#%%\n"
    }
   }
  },
  {
   "cell_type": "code",
   "execution_count": 52,
   "outputs": [
    {
     "data": {
      "text/plain": "Text(0.5, 1.0, 'Accuracy')"
     },
     "execution_count": 52,
     "metadata": {},
     "output_type": "execute_result"
    },
    {
     "data": {
      "text/plain": "<Figure size 432x288 with 1 Axes>",
      "image/png": "[encoded data removed]"
     },
     "metadata": {
      "needs_background": "light"
     },
     "output_type": "display_data"
    },
    {
     "data": {
      "text/plain": "<Figure size 432x288 with 1 Axes>",
      "image/png": "[encoded data removed]"
     },
     "metadata": {
      "needs_background": "light"
     },
     "output_type": "display_data"
    }
   ],
   "source": [
    "plt.figure(1)\n",
    "plt.plot(torch.arange(nepochs), cost_hist, \"-\")\n",
    "plt.plot(torch.arange(nepochs), cost_hist_test, \"r-\")\n",
    "plt.xlabel(\"Epoch\")\n",
    "plt.xlim(0,nepochs)\n",
    "plt.ylim(0,1)\n",
    "plt.title(\"Cross-Entropy Cost\")\n",
    "plt.figure(2)\n",
    "plt.plot(torch.arange(nepochs), acc_hist,\"-\")\n",
    "plt.plot(torch.arange(nepochs), acc_hist_test,\"r-\")\n",
    "plt.xlabel(\"Epoch\")\n",
    "plt.xlim(0,nepochs)\n",
    "plt.ylim(0.0, 1)\n",
    "plt.title(\"Accuracy\")"
   ],
   "metadata": {
    "collapsed": false,
    "pycharm": {
     "name": "#%%\n"
    }
   }
  },
  {
   "cell_type": "markdown",
   "id": "b2e54eea-ddb0-41b0-a736-60924d2bec89",
   "metadata": {},
   "source": [
    "### Mini-Batch Gradient Descent"
   ]
  },
  {
   "cell_type": "code",
   "execution_count": 18,
   "id": "9fed7dc9-44c4-4f06-b184-40d05fcefeba",
   "metadata": {},
   "outputs": [
    {
     "data": {
      "text/plain": [
       "Text(0.5, 1.0, 'Accuracy')"
      ]
     },
     "execution_count": 18,
     "metadata": {},
     "output_type": "execute_result"
    },
    {
     "data": {
      "image/png": "[encoded data removed]",
      "text/plain": [
       "<Figure size 432x288 with 1 Axes>"
      ]
     },
     "metadata": {
      "needs_background": "light"
     },
     "output_type": "display_data"
    },
    {
     "data": {
      "image/png": "[encoded data removed]",
      "text/plain": [
       "<Figure size 432x288 with 1 Axes>"
      ]
     },
     "metadata": {
      "needs_background": "light"
     },
     "output_type": "display_data"
    }
   ],
   "source": [
    "plt.figure(1)\n",
    "plt.plot(torch.arange(nepochs), cost_hist, \"-\")\n",
    "plt.plot(torch.arange(nepochs), cost_hist_test, \"r-\")\n",
    "plt.xlabel(\"Epoch\")\n",
    "plt.xlim(0,nepochs)\n",
    "plt.ylim(0,1)\n",
    "plt.title(\"Cross-Entropy Cost\")\n",
    "plt.figure(2)\n",
    "plt.plot(torch.arange(nepochs), acc_hist,\"-\")\n",
    "plt.plot(torch.arange(nepochs), acc_hist_test,\"r-\")\n",
    "plt.xlabel(\"Epoch\")\n",
    "plt.xlim(0,nepochs)\n",
    "plt.ylim(0.8,1)\n",
    "plt.title(\"Accuracy\")"
   ]
  },
  {
   "cell_type": "markdown",
   "id": "1e43eb8b-f5f8-4e2f-8338-79d142581b52",
   "metadata": {},
   "source": [
    "### With Full-Fledge PyTorch"
   ]
  },
  {
   "cell_type": "code",
   "execution_count": 38,
   "id": "ef3daa6e-134a-45da-9e79-5d71d328e6bd",
   "metadata": {},
   "outputs": [],
   "source": [
    "class NeuralNetwork(torch.nn.Module):\n",
    "    \n",
    "    def __init__(self):\n",
    "        super(NeuralNetwork, self).__init__()\n",
    "        self.flatten = torch.nn.Flatten(start_dim=1, end_dim=-1)\n",
    "        self.linear  = torch.nn.Linear(in_features=784, out_features=10, bias=True)\n",
    "    \n",
    "    def forward(self, _x): # use just one linear layer and pytorch's CrossEntropyLoss\n",
    "        _z = self.linear(self.flatten(_x))\n",
    "        return _z\n"
   ]
  },
  {
   "cell_type": "code",
   "execution_count": 39,
   "id": "09ef1a08-ecac-4a33-be14-bc8fe3d081fe",
   "metadata": {},
   "outputs": [
    {
     "name": "stdout",
     "output_type": "stream",
     "text": [
      "NeuralNetwork(\n",
      "  (flatten): Flatten(start_dim=1, end_dim=-1)\n",
      "  (linear): Linear(in_features=784, out_features=10, bias=True)\n",
      ")\n"
     ]
    }
   ],
   "source": [
    "model = NeuralNetwork()\n",
    "print(model)"
   ]
  },
  {
   "cell_type": "code",
   "execution_count": 40,
   "id": "4e79c33e-ca98-4df2-b887-c30cb02ae503",
   "metadata": {},
   "outputs": [
    {
     "data": {
      "text/plain": "==========================================================================================\nLayer (type:depth-idx)                   Output Shape              Param #\n==========================================================================================\nNeuralNetwork                            --                        --\n├─Flatten: 1-1                           [1, 784]                  --\n├─Linear: 1-2                            [1, 10]                   7,850\n==========================================================================================\nTotal params: 7,850\nTrainable params: 7,850\nNon-trainable params: 0\nTotal mult-adds (M): 0.01\n==========================================================================================\nInput size (MB): 0.00\nForward/backward pass size (MB): 0.00\nParams size (MB): 0.03\nEstimated Total Size (MB): 0.03\n=========================================================================================="
     },
     "execution_count": 40,
     "metadata": {},
     "output_type": "execute_result"
    }
   ],
   "source": [
    "summary(model, (1,28,28))"
   ]
  },
  {
   "cell_type": "code",
   "execution_count": 41,
   "outputs": [
    {
     "name": "stdout",
     "output_type": "stream",
     "text": [
      "Epoch 0: 0.978833, 0.799733, 0.600803, 0.869800\n",
      "Epoch 1: 0.550818, 0.867900, 0.475515, 0.882700\n",
      "Epoch 2: 0.471218, 0.879650, 0.426023, 0.893000\n",
      "Epoch 3: 0.432509, 0.886517, 0.397459, 0.897100\n"
     ]
    },
    {
     "ename": "KeyboardInterrupt",
     "evalue": "",
     "output_type": "error",
     "traceback": [
      "\u001B[0;31m---------------------------------------------------------------------------\u001B[0m",
      "\u001B[0;31mKeyboardInterrupt\u001B[0m                         Traceback (most recent call last)",
      "Input \u001B[0;32mIn [41]\u001B[0m, in \u001B[0;36m<module>\u001B[0;34m\u001B[0m\n\u001B[1;32m     19\u001B[0m \u001B[38;5;28;01mfor\u001B[39;00m epoch \u001B[38;5;129;01min\u001B[39;00m \u001B[38;5;28mrange\u001B[39m(nepochs):\n\u001B[1;32m     20\u001B[0m     cost, acc \u001B[38;5;241m=\u001B[39m \u001B[38;5;241m0.0\u001B[39m, \u001B[38;5;241m0.0\u001B[39m\n\u001B[0;32m---> 21\u001B[0m     \u001B[38;5;28;01mfor\u001B[39;00m batch, (X, Y) \u001B[38;5;129;01min\u001B[39;00m \u001B[38;5;28menumerate\u001B[39m(training_loader):\n\u001B[1;32m     22\u001B[0m         pred \u001B[38;5;241m=\u001B[39m model(X)\n\u001B[1;32m     23\u001B[0m         loss \u001B[38;5;241m=\u001B[39m nn_cost_ce(pred, Y)\n",
      "File \u001B[0;32m~/Documents/MSE_Projects/deep_learning/venv/lib/python3.9/site-packages/torch/utils/data/dataloader.py:521\u001B[0m, in \u001B[0;36m_BaseDataLoaderIter.__next__\u001B[0;34m(self)\u001B[0m\n\u001B[1;32m    519\u001B[0m \u001B[38;5;28;01mif\u001B[39;00m \u001B[38;5;28mself\u001B[39m\u001B[38;5;241m.\u001B[39m_sampler_iter \u001B[38;5;129;01mis\u001B[39;00m \u001B[38;5;28;01mNone\u001B[39;00m:\n\u001B[1;32m    520\u001B[0m     \u001B[38;5;28mself\u001B[39m\u001B[38;5;241m.\u001B[39m_reset()\n\u001B[0;32m--> 521\u001B[0m data \u001B[38;5;241m=\u001B[39m \u001B[38;5;28;43mself\u001B[39;49m\u001B[38;5;241;43m.\u001B[39;49m\u001B[43m_next_data\u001B[49m\u001B[43m(\u001B[49m\u001B[43m)\u001B[49m\n\u001B[1;32m    522\u001B[0m \u001B[38;5;28mself\u001B[39m\u001B[38;5;241m.\u001B[39m_num_yielded \u001B[38;5;241m+\u001B[39m\u001B[38;5;241m=\u001B[39m \u001B[38;5;241m1\u001B[39m\n\u001B[1;32m    523\u001B[0m \u001B[38;5;28;01mif\u001B[39;00m \u001B[38;5;28mself\u001B[39m\u001B[38;5;241m.\u001B[39m_dataset_kind \u001B[38;5;241m==\u001B[39m _DatasetKind\u001B[38;5;241m.\u001B[39mIterable \u001B[38;5;129;01mand\u001B[39;00m \\\n\u001B[1;32m    524\u001B[0m         \u001B[38;5;28mself\u001B[39m\u001B[38;5;241m.\u001B[39m_IterableDataset_len_called \u001B[38;5;129;01mis\u001B[39;00m \u001B[38;5;129;01mnot\u001B[39;00m \u001B[38;5;28;01mNone\u001B[39;00m \u001B[38;5;129;01mand\u001B[39;00m \\\n\u001B[1;32m    525\u001B[0m         \u001B[38;5;28mself\u001B[39m\u001B[38;5;241m.\u001B[39m_num_yielded \u001B[38;5;241m>\u001B[39m \u001B[38;5;28mself\u001B[39m\u001B[38;5;241m.\u001B[39m_IterableDataset_len_called:\n",
      "File \u001B[0;32m~/Documents/MSE_Projects/deep_learning/venv/lib/python3.9/site-packages/torch/utils/data/dataloader.py:561\u001B[0m, in \u001B[0;36m_SingleProcessDataLoaderIter._next_data\u001B[0;34m(self)\u001B[0m\n\u001B[1;32m    559\u001B[0m \u001B[38;5;28;01mdef\u001B[39;00m \u001B[38;5;21m_next_data\u001B[39m(\u001B[38;5;28mself\u001B[39m):\n\u001B[1;32m    560\u001B[0m     index \u001B[38;5;241m=\u001B[39m \u001B[38;5;28mself\u001B[39m\u001B[38;5;241m.\u001B[39m_next_index()  \u001B[38;5;66;03m# may raise StopIteration\u001B[39;00m\n\u001B[0;32m--> 561\u001B[0m     data \u001B[38;5;241m=\u001B[39m \u001B[38;5;28;43mself\u001B[39;49m\u001B[38;5;241;43m.\u001B[39;49m\u001B[43m_dataset_fetcher\u001B[49m\u001B[38;5;241;43m.\u001B[39;49m\u001B[43mfetch\u001B[49m\u001B[43m(\u001B[49m\u001B[43mindex\u001B[49m\u001B[43m)\u001B[49m  \u001B[38;5;66;03m# may raise StopIteration\u001B[39;00m\n\u001B[1;32m    562\u001B[0m     \u001B[38;5;28;01mif\u001B[39;00m \u001B[38;5;28mself\u001B[39m\u001B[38;5;241m.\u001B[39m_pin_memory:\n\u001B[1;32m    563\u001B[0m         data \u001B[38;5;241m=\u001B[39m _utils\u001B[38;5;241m.\u001B[39mpin_memory\u001B[38;5;241m.\u001B[39mpin_memory(data)\n",
      "File \u001B[0;32m~/Documents/MSE_Projects/deep_learning/venv/lib/python3.9/site-packages/torch/utils/data/_utils/fetch.py:49\u001B[0m, in \u001B[0;36m_MapDatasetFetcher.fetch\u001B[0;34m(self, possibly_batched_index)\u001B[0m\n\u001B[1;32m     47\u001B[0m \u001B[38;5;28;01mdef\u001B[39;00m \u001B[38;5;21mfetch\u001B[39m(\u001B[38;5;28mself\u001B[39m, possibly_batched_index):\n\u001B[1;32m     48\u001B[0m     \u001B[38;5;28;01mif\u001B[39;00m \u001B[38;5;28mself\u001B[39m\u001B[38;5;241m.\u001B[39mauto_collation:\n\u001B[0;32m---> 49\u001B[0m         data \u001B[38;5;241m=\u001B[39m [\u001B[38;5;28mself\u001B[39m\u001B[38;5;241m.\u001B[39mdataset[idx] \u001B[38;5;28;01mfor\u001B[39;00m idx \u001B[38;5;129;01min\u001B[39;00m possibly_batched_index]\n\u001B[1;32m     50\u001B[0m     \u001B[38;5;28;01melse\u001B[39;00m:\n\u001B[1;32m     51\u001B[0m         data \u001B[38;5;241m=\u001B[39m \u001B[38;5;28mself\u001B[39m\u001B[38;5;241m.\u001B[39mdataset[possibly_batched_index]\n",
      "File \u001B[0;32m~/Documents/MSE_Projects/deep_learning/venv/lib/python3.9/site-packages/torch/utils/data/_utils/fetch.py:49\u001B[0m, in \u001B[0;36m<listcomp>\u001B[0;34m(.0)\u001B[0m\n\u001B[1;32m     47\u001B[0m \u001B[38;5;28;01mdef\u001B[39;00m \u001B[38;5;21mfetch\u001B[39m(\u001B[38;5;28mself\u001B[39m, possibly_batched_index):\n\u001B[1;32m     48\u001B[0m     \u001B[38;5;28;01mif\u001B[39;00m \u001B[38;5;28mself\u001B[39m\u001B[38;5;241m.\u001B[39mauto_collation:\n\u001B[0;32m---> 49\u001B[0m         data \u001B[38;5;241m=\u001B[39m [\u001B[38;5;28;43mself\u001B[39;49m\u001B[38;5;241;43m.\u001B[39;49m\u001B[43mdataset\u001B[49m\u001B[43m[\u001B[49m\u001B[43midx\u001B[49m\u001B[43m]\u001B[49m \u001B[38;5;28;01mfor\u001B[39;00m idx \u001B[38;5;129;01min\u001B[39;00m possibly_batched_index]\n\u001B[1;32m     50\u001B[0m     \u001B[38;5;28;01melse\u001B[39;00m:\n\u001B[1;32m     51\u001B[0m         data \u001B[38;5;241m=\u001B[39m \u001B[38;5;28mself\u001B[39m\u001B[38;5;241m.\u001B[39mdataset[possibly_batched_index]\n",
      "File \u001B[0;32m~/Documents/MSE_Projects/deep_learning/venv/lib/python3.9/site-packages/torchvision/datasets/mnist.py:131\u001B[0m, in \u001B[0;36mMNIST.__getitem__\u001B[0;34m(self, index)\u001B[0m\n\u001B[1;32m    127\u001B[0m img, target \u001B[38;5;241m=\u001B[39m \u001B[38;5;28mself\u001B[39m\u001B[38;5;241m.\u001B[39mdata[index], \u001B[38;5;28mint\u001B[39m(\u001B[38;5;28mself\u001B[39m\u001B[38;5;241m.\u001B[39mtargets[index])\n\u001B[1;32m    129\u001B[0m \u001B[38;5;66;03m# doing this so that it is consistent with all other datasets\u001B[39;00m\n\u001B[1;32m    130\u001B[0m \u001B[38;5;66;03m# to return a PIL Image\u001B[39;00m\n\u001B[0;32m--> 131\u001B[0m img \u001B[38;5;241m=\u001B[39m \u001B[43mImage\u001B[49m\u001B[38;5;241;43m.\u001B[39;49m\u001B[43mfromarray\u001B[49m\u001B[43m(\u001B[49m\u001B[43mimg\u001B[49m\u001B[38;5;241;43m.\u001B[39;49m\u001B[43mnumpy\u001B[49m\u001B[43m(\u001B[49m\u001B[43m)\u001B[49m\u001B[43m,\u001B[49m\u001B[43m \u001B[49m\u001B[43mmode\u001B[49m\u001B[38;5;241;43m=\u001B[39;49m\u001B[38;5;124;43m'\u001B[39;49m\u001B[38;5;124;43mL\u001B[39;49m\u001B[38;5;124;43m'\u001B[39;49m\u001B[43m)\u001B[49m\n\u001B[1;32m    133\u001B[0m \u001B[38;5;28;01mif\u001B[39;00m \u001B[38;5;28mself\u001B[39m\u001B[38;5;241m.\u001B[39mtransform \u001B[38;5;129;01mis\u001B[39;00m \u001B[38;5;129;01mnot\u001B[39;00m \u001B[38;5;28;01mNone\u001B[39;00m:\n\u001B[1;32m    134\u001B[0m     img \u001B[38;5;241m=\u001B[39m \u001B[38;5;28mself\u001B[39m\u001B[38;5;241m.\u001B[39mtransform(img)\n",
      "File \u001B[0;32m~/Documents/MSE_Projects/deep_learning/venv/lib/python3.9/site-packages/PIL/Image.py:2834\u001B[0m, in \u001B[0;36mfromarray\u001B[0;34m(obj, mode)\u001B[0m\n\u001B[1;32m   2831\u001B[0m     \u001B[38;5;28;01melse\u001B[39;00m:\n\u001B[1;32m   2832\u001B[0m         obj \u001B[38;5;241m=\u001B[39m obj\u001B[38;5;241m.\u001B[39mtostring()\n\u001B[0;32m-> 2834\u001B[0m \u001B[38;5;28;01mreturn\u001B[39;00m \u001B[43mfrombuffer\u001B[49m\u001B[43m(\u001B[49m\u001B[43mmode\u001B[49m\u001B[43m,\u001B[49m\u001B[43m \u001B[49m\u001B[43msize\u001B[49m\u001B[43m,\u001B[49m\u001B[43m \u001B[49m\u001B[43mobj\u001B[49m\u001B[43m,\u001B[49m\u001B[43m \u001B[49m\u001B[38;5;124;43m\"\u001B[39;49m\u001B[38;5;124;43mraw\u001B[39;49m\u001B[38;5;124;43m\"\u001B[39;49m\u001B[43m,\u001B[49m\u001B[43m \u001B[49m\u001B[43mrawmode\u001B[49m\u001B[43m,\u001B[49m\u001B[43m \u001B[49m\u001B[38;5;241;43m0\u001B[39;49m\u001B[43m,\u001B[49m\u001B[43m \u001B[49m\u001B[38;5;241;43m1\u001B[39;49m\u001B[43m)\u001B[49m\n",
      "File \u001B[0;32m~/Documents/MSE_Projects/deep_learning/venv/lib/python3.9/site-packages/PIL/Image.py:2756\u001B[0m, in \u001B[0;36mfrombuffer\u001B[0;34m(mode, size, data, decoder_name, *args)\u001B[0m\n\u001B[1;32m   2754\u001B[0m     args \u001B[38;5;241m=\u001B[39m mode, \u001B[38;5;241m0\u001B[39m, \u001B[38;5;241m1\u001B[39m\n\u001B[1;32m   2755\u001B[0m \u001B[38;5;28;01mif\u001B[39;00m args[\u001B[38;5;241m0\u001B[39m] \u001B[38;5;129;01min\u001B[39;00m _MAPMODES:\n\u001B[0;32m-> 2756\u001B[0m     im \u001B[38;5;241m=\u001B[39m \u001B[43mnew\u001B[49m\u001B[43m(\u001B[49m\u001B[43mmode\u001B[49m\u001B[43m,\u001B[49m\u001B[43m \u001B[49m\u001B[43m(\u001B[49m\u001B[38;5;241;43m1\u001B[39;49m\u001B[43m,\u001B[49m\u001B[43m \u001B[49m\u001B[38;5;241;43m1\u001B[39;49m\u001B[43m)\u001B[49m\u001B[43m)\u001B[49m\n\u001B[1;32m   2757\u001B[0m     im \u001B[38;5;241m=\u001B[39m im\u001B[38;5;241m.\u001B[39m_new(core\u001B[38;5;241m.\u001B[39mmap_buffer(data, size, decoder_name, \u001B[38;5;241m0\u001B[39m, args))\n\u001B[1;32m   2758\u001B[0m     im\u001B[38;5;241m.\u001B[39mreadonly \u001B[38;5;241m=\u001B[39m \u001B[38;5;241m1\u001B[39m\n",
      "File \u001B[0;32m~/Documents/MSE_Projects/deep_learning/venv/lib/python3.9/site-packages/PIL/Image.py:2663\u001B[0m, in \u001B[0;36mnew\u001B[0;34m(mode, size, color)\u001B[0m\n\u001B[1;32m   2659\u001B[0m     \u001B[38;5;28;01mfrom\u001B[39;00m \u001B[38;5;21;01m.\u001B[39;00m \u001B[38;5;28;01mimport\u001B[39;00m ImageColor\n\u001B[1;32m   2661\u001B[0m     color \u001B[38;5;241m=\u001B[39m ImageColor\u001B[38;5;241m.\u001B[39mgetcolor(color, mode)\n\u001B[0;32m-> 2663\u001B[0m im \u001B[38;5;241m=\u001B[39m \u001B[43mImage\u001B[49m\u001B[43m(\u001B[49m\u001B[43m)\u001B[49m\n\u001B[1;32m   2664\u001B[0m \u001B[38;5;28;01mif\u001B[39;00m mode \u001B[38;5;241m==\u001B[39m \u001B[38;5;124m\"\u001B[39m\u001B[38;5;124mP\u001B[39m\u001B[38;5;124m\"\u001B[39m \u001B[38;5;129;01mand\u001B[39;00m \u001B[38;5;28misinstance\u001B[39m(color, (\u001B[38;5;28mlist\u001B[39m, \u001B[38;5;28mtuple\u001B[39m)) \u001B[38;5;129;01mand\u001B[39;00m \u001B[38;5;28mlen\u001B[39m(color) \u001B[38;5;129;01min\u001B[39;00m [\u001B[38;5;241m3\u001B[39m, \u001B[38;5;241m4\u001B[39m]:\n\u001B[1;32m   2665\u001B[0m     \u001B[38;5;66;03m# RGB or RGBA value for a P image\u001B[39;00m\n\u001B[1;32m   2666\u001B[0m     \u001B[38;5;28;01mfrom\u001B[39;00m \u001B[38;5;21;01m.\u001B[39;00m \u001B[38;5;28;01mimport\u001B[39;00m ImagePalette\n",
      "File \u001B[0;32m~/Documents/MSE_Projects/deep_learning/venv/lib/python3.9/site-packages/PIL/Image.py:500\u001B[0m, in \u001B[0;36mImage.__init__\u001B[0;34m(self)\u001B[0m\n\u001B[1;32m    497\u001B[0m \u001B[38;5;28;01mdef\u001B[39;00m \u001B[38;5;21m__init__\u001B[39m(\u001B[38;5;28mself\u001B[39m):\n\u001B[1;32m    498\u001B[0m     \u001B[38;5;66;03m# FIXME: take \"new\" parameters / other image?\u001B[39;00m\n\u001B[1;32m    499\u001B[0m     \u001B[38;5;66;03m# FIXME: turn mode and size into delegating properties?\u001B[39;00m\n\u001B[0;32m--> 500\u001B[0m     \u001B[38;5;28mself\u001B[39m\u001B[38;5;241m.\u001B[39mim \u001B[38;5;241m=\u001B[39m \u001B[38;5;28;01mNone\u001B[39;00m\n\u001B[1;32m    501\u001B[0m     \u001B[38;5;28mself\u001B[39m\u001B[38;5;241m.\u001B[39mmode \u001B[38;5;241m=\u001B[39m \u001B[38;5;124m\"\u001B[39m\u001B[38;5;124m\"\u001B[39m\n\u001B[1;32m    502\u001B[0m     \u001B[38;5;28mself\u001B[39m\u001B[38;5;241m.\u001B[39m_size \u001B[38;5;241m=\u001B[39m (\u001B[38;5;241m0\u001B[39m, \u001B[38;5;241m0\u001B[39m)\n",
      "\u001B[0;31mKeyboardInterrupt\u001B[0m: "
     ]
    }
   ],
   "source": [
    "nbatch = 64\n",
    "nepochs = 10\n",
    "learning_rate = 0.01\n",
    "\n",
    "cost_hist = []\n",
    "cost_hist_test = []\n",
    "acc_hist = []\n",
    "acc_hist_test = []\n",
    "\n",
    "nn_cost_ce = torch.nn.CrossEntropyLoss()\n",
    "optimizer = torch.optim.SGD(model.parameters(), lr=learning_rate)\n",
    "\n",
    "training_loader = DataLoader(training_data, batch_size=nbatch, shuffle=True)\n",
    "test_loader = DataLoader(test_data, batch_size=10000, shuffle=True)\n",
    "Xtest, Ytest = next(iter(test_loader))\n",
    "size = len(training_loader.dataset)\n",
    "nbatches = len(training_loader)\n",
    "\n",
    "for epoch in range(nepochs):\n",
    "    cost, acc = 0.0, 0.0\n",
    "    for batch, (X, Y) in enumerate(training_loader):\n",
    "        pred = model(X)\n",
    "        loss = nn_cost_ce(pred, Y)\n",
    "        optimizer.zero_grad()\n",
    "        loss.backward()\n",
    "        optimizer.step()\n",
    "        cost += loss.item()\n",
    "        acc += (Y == pred.argmax(dim = 1)).type(torch.float).sum().item()\n",
    "\n",
    "    cost /= nbatches\n",
    "    acc /= size\n",
    "    acc_test = 0.0\n",
    "    cost_test = 0.0\n",
    "    with torch.no_grad():\n",
    "        for X, Y in test_loader:\n",
    "            pred_test = model(X)\n",
    "            _cce = nn_cost_ce(pred_test, Y)\n",
    "            _acc = (pred_test.argmax(dim=1) == Y).type(torch.float).sum().item() / X.shape[0]\n",
    "            acc_test += _acc\n",
    "            cost_test += _cce\n",
    "    print(\"Epoch %i: %f, %f, %f, %f\"%(epoch, cost, acc, cost_test, acc_test))\n",
    "    cost_hist.append(cost)\n",
    "    cost_hist_test.append(cost_test)\n",
    "    acc_hist.append(acc)\n",
    "    acc_hist_test.append(acc_test)\n"
   ],
   "metadata": {
    "collapsed": false,
    "pycharm": {
     "name": "#%%\n"
    }
   }
  },
  {
   "cell_type": "code",
   "execution_count": 23,
   "outputs": [
    {
     "data": {
      "text/plain": "Text(0.5, 1.0, 'Accuracy')"
     },
     "execution_count": 23,
     "metadata": {},
     "output_type": "execute_result"
    },
    {
     "data": {
      "text/plain": "<Figure size 432x288 with 1 Axes>",
      "image/png": "[encoded data removed]"
     },
     "metadata": {
      "needs_background": "light"
     },
     "output_type": "display_data"
    },
    {
     "data": {
      "text/plain": "<Figure size 432x288 with 1 Axes>",
      "image/png": "[encoded data removed]"
     },
     "metadata": {
      "needs_background": "light"
     },
     "output_type": "display_data"
    }
   ],
   "source": [
    "plt.figure(1)\n",
    "plt.plot(torch.arange(nepochs), cost_hist, \"-\")\n",
    "plt.plot(torch.arange(nepochs), cost_hist_test, \"r-\")\n",
    "plt.xlabel(\"Epoch\")\n",
    "plt.xlim(0,nepochs)\n",
    "plt.ylim(0,1)\n",
    "plt.title(\"Cross-Entropy Cost\")\n",
    "plt.figure(2)\n",
    "plt.plot(torch.arange(nepochs), acc_hist,\"-\")\n",
    "plt.plot(torch.arange(nepochs), acc_hist_test,\"r-\")\n",
    "plt.xlabel(\"Epoch\")\n",
    "plt.xlim(0,nepochs)\n",
    "plt.ylim(0.8,1)\n",
    "plt.title(\"Accuracy\")"
   ],
   "metadata": {
    "collapsed": false,
    "pycharm": {
     "name": "#%%\n"
    }
   }
  },
  {
   "cell_type": "code",
   "execution_count": 36,
   "id": "d7823a99-4f08-4c86-9dde-459d19e861d2",
   "metadata": {},
   "outputs": [
    {
     "name": "stdout",
     "output_type": "stream",
     "text": [
      "Epoch 0: 0.983347, 0.798517, 0.603200, 0.867500\n",
      "Epoch 1: 0.552474, 0.867283, 0.477130, 0.884000\n",
      "Epoch 2: 0.472336, 0.879833, 0.426591, 0.891300\n",
      "Epoch 3: 0.433343, 0.886117, 0.398831, 0.896200\n",
      "Epoch 4: 0.408873, 0.891000, 0.381611, 0.899200\n",
      "Epoch 5: 0.392192, 0.894483, 0.364884, 0.902000\n",
      "Epoch 6: 0.379480, 0.897100, 0.355054, 0.905300\n",
      "Epoch 7: 0.369738, 0.899250, 0.345773, 0.906000\n",
      "Epoch 8: 0.361385, 0.900750, 0.340056, 0.907500\n",
      "Epoch 9: 0.354670, 0.902517, 0.333860, 0.907700\n"
     ]
    }
   ],
   "source": [
    "nbatch = 64\n",
    "nepochs = 10\n",
    "learning_rate = 0.01\n",
    "\n",
    "cost_hist = []\n",
    "cost_hist_test = []\n",
    "acc_hist = []\n",
    "acc_hist_test = []\n",
    "\n",
    "cost_ce = torch.nn.CrossEntropyLoss()\n",
    "optimizer = torch.optim.SGD(model.parameters(), lr=learning_rate)\n",
    "\n",
    "training_loader = DataLoader(training_data, batch_size=nbatch, shuffle=True)\n",
    "test_loader = DataLoader(test_data, batch_size=10000, shuffle=True)\n",
    "Xtest, Ytest = next(iter(test_loader))\n",
    "size = len(training_loader.dataset)\n",
    "nbatches = len(training_loader)\n",
    "\n",
    "for epoch in range(nepochs):\n",
    "    cost, acc = 0.0, 0.0\n",
    "    for batch, (X, Y) in enumerate(training_loader):\n",
    "        pred = model(X)\n",
    "        loss = torch.nn.CrossEntropyLoss()\n",
    "\n",
    "        output = loss(pred, Y)\n",
    "        optimizer.zero_grad()\n",
    "        output.backward()\n",
    "        optimizer.step()\n",
    "        \n",
    "    cost /= nbatches\n",
    "    acc /= size\n",
    "    acc_test = 0.0\n",
    "    cost_test = 0.0\n",
    "    with torch.no_grad():\n",
    "        for Xtest, Ytest in test_loader:\n",
    "            pred_test = model(Xtest)\n",
    "            _cce = cost_ce(Ytest, pred_test)\n",
    "            _acc = torch.sum((Ytest == torch.argmax(pred, dim=1))).float() / Xtest.shape[0]\n",
    "            acc_test += _acc\n",
    "            cost_test += _cce\n",
    "    print(\"Epoch %i: %f, %f, %f, %f\"%(epoch, cost, acc, cost_test, acc_test))\n",
    "    cost_hist.append(cost)\n",
    "    cost_hist_test.append(cost_test)\n",
    "    acc_hist.append(acc)\n",
    "    acc_hist_test.append(acc_test)\n"
   ]
  },
  {
   "cell_type": "code",
   "execution_count": 37,
   "id": "fc4695d3-4b2b-4304-ae4e-9c8eb1f44cf3",
   "metadata": {},
   "outputs": [
    {
     "data": {
      "text/plain": [
       "Text(0.5, 1.0, 'Accuracy')"
      ]
     },
     "execution_count": 37,
     "metadata": {},
     "output_type": "execute_result"
    },
    {
     "data": {
      "image/png": "[encoded data removed]",
      "text/plain": [
       "<Figure size 432x288 with 1 Axes>"
      ]
     },
     "metadata": {
      "needs_background": "light"
     },
     "output_type": "display_data"
    },
    {
     "data": {
      "image/png": "[encoded data removed]",
      "text/plain": [
       "<Figure size 432x288 with 1 Axes>"
      ]
     },
     "metadata": {
      "needs_background": "light"
     },
     "output_type": "display_data"
    }
   ],
   "source": [
    "plt.figure(1)\n",
    "plt.plot(torch.arange(nepochs), cost_hist, \"-\")\n",
    "plt.plot(torch.arange(nepochs), cost_hist_test, \"r-\")\n",
    "plt.xlabel(\"Epoch\")\n",
    "plt.xlim(0,nepochs)\n",
    "plt.ylim(0,1)\n",
    "plt.title(\"Cross-Entropy Cost\")\n",
    "plt.figure(2)\n",
    "plt.plot(torch.arange(nepochs), acc_hist,\"-\")\n",
    "plt.plot(torch.arange(nepochs), acc_hist_test,\"r-\")\n",
    "plt.xlabel(\"Epoch\")\n",
    "plt.xlim(0,nepochs)\n",
    "plt.ylim(0.8,1)\n",
    "plt.title(\"Accuracy\")"
   ]
  },
  {
   "cell_type": "markdown",
   "id": "e34e4990-39e0-412b-85f4-389fcf2e3a9f",
   "metadata": {},
   "source": [
    "### Analysis of different settings for learning rate and batch size"
   ]
  },
  {
   "cell_type": "markdown",
   "id": "2806fab7-0ef3-4ede-b5c5-2c718acd0705",
   "metadata": {},
   "source": [
    "Now analyse the training progress with five, well selected settings for each, the learning rate and the batch size.\n",
    "Make sure that for each setting, a more or less \"stable\" test performance is achieved, i.e. a status where the test accurace is no longer expected to improve. Choose the number of epochs accordingly."
   ]
  },
  {
   "cell_type": "markdown",
   "id": "a1a60790-339d-4ff1-a078-1144b91e5ccb",
   "metadata": {},
   "source": [
    "Finally, prepare suitable plots and tables to make the comparison transparent and characterize in words what you observe. \n",
    "\n",
    "Can you explain the behavior?"
   ]
  },
  {
   "cell_type": "code",
   "execution_count": null,
   "id": "bb76edcd-f921-4d9e-8dcc-41a1b3e9a196",
   "metadata": {},
   "outputs": [],
   "source": []
  }
 ],
 "metadata": {
  "kernelspec": {
   "display_name": "Python 3 (ipykernel)",
   "language": "python",
   "name": "python3"
  },
  "language_info": {
   "codemirror_mode": {
    "name": "ipython",
    "version": 3
   },
   "file_extension": ".py",
   "mimetype": "text/x-python",
   "name": "python",
   "nbconvert_exporter": "python",
   "pygments_lexer": "ipython3",
   "version": "3.9.7"
  }
 },
 "nbformat": 4,
 "nbformat_minor": 5
}