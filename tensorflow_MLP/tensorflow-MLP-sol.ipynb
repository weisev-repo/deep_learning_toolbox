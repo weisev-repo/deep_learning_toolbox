{
 "cells": [
  {
   "cell_type": "markdown",
   "metadata": {},
   "source": [
    "# Practical Work 06 \n",
    "\n",
    "## Exercise 3 – MLP with TensorFlow 2.0\n",
    "The objective of the exercise is to implement computational graphs in TensorFlow 2.0 to train and use such an architecture. The constraints we put ourselves is to use **low-level** functions of TensorFlow, i.e. we will not use high-level functions to compose layers and to train the parameters.\n",
    "\n",
    "If you get this error in the execution of the first cell: ` ModuleNotFoundError: No module named 'tensorflow' `, it probably means TensorFlow 2.0 is not installed yet on your machine."
   ]
  },
  {
   "cell_type": "code",
   "execution_count": 3,
   "metadata": {},
   "outputs": [
    {
     "name": "stdout",
     "output_type": "stream",
     "text": [
      "MNIST data set ready. N=60000, D=784, n_classes=10\n"
     ]
    }
   ],
   "source": [
    "#############################\n",
    "# MNIST Dataset Preparation #\n",
    "#############################\n",
    "\n",
    "import numpy as np\n",
    "import tensorflow as tf\n",
    "import matplotlib.pyplot as plt\n",
    "\n",
    "mnist = tf.keras.datasets.mnist\n",
    "(x_train, y_train_vec),(x_test, y_test_vec) = mnist.load_data()\n",
    "x_train, x_test = x_train / 255.0, x_test / 255.0\n",
    "x_train = x_train.reshape(60000, 784)\n",
    "x_test = x_test.reshape(10000, 784)\n",
    "# convert class vectors to binary class matrices\n",
    "y_train = tf.keras.utils.to_categorical(y_train_vec, 10, dtype='float64')\n",
    "y_test = tf.keras.utils.to_categorical(y_test_vec, 10, dtype='float64')\n",
    "N = x_train.shape[0]         # number of samples\n",
    "D = x_train.shape[1]         # dimension of input sample\n",
    "n_classes = y_train.shape[1] # output dim\n",
    "print('MNIST data set ready. N={}, D={}, n_classes={}'.format(N,D,n_classes))"
   ]
  },
  {
   "cell_type": "code",
   "execution_count": 12,
   "metadata": {},
   "outputs": [],
   "source": [
    "# Function to sample a random batch from dataset\n",
    "def next_batch(num, data, labels):\n",
    "    '''\n",
    "    Return a total of `num` random samples and labels. \n",
    "    '''\n",
    "    idx = np.arange(0,len(data))  # create an array of index values\n",
    "    np.random.shuffle(idx)        # shuffle it\n",
    "    idx = idx[:num]               # take the first n indexes = size of batch\n",
    "    data_shuffle = data[idx]      # extract the batch using the random indexes\n",
    "    labels_shuffle = labels[idx]  # extract the labels using the random indexes\n",
    "\n",
    "    return data_shuffle, labels_shuffle"
   ]
  },
  {
   "cell_type": "code",
   "execution_count": 5,
   "metadata": {},
   "outputs": [],
   "source": [
    "##################\n",
    "# Training phase #\n",
    "##################\n",
    "\n",
    "E = 50                # number of epochs\n",
    "B = 128               # batch size\n",
    "N = x_train.shape[0]  # number of samples\n",
    "D = x_train.shape[1]  # dimension of input sample\n",
    "H = 300               # number of neurons\n",
    "A = 0.01              # learning rate"
   ]
  },
  {
   "cell_type": "code",
   "execution_count": 13,
   "metadata": {
    "scrolled": false
   },
   "outputs": [
    {
     "name": "stdout",
     "output_type": "stream",
     "text": [
      "epoch = 0, loss = 59.14524762784337\n",
      "epoch = 1, loss = 41.11387827880607\n",
      "epoch = 2, loss = 38.339728687719415\n",
      "epoch = 3, loss = 35.67575023850617\n",
      "epoch = 4, loss = 33.15644525854705\n",
      "epoch = 5, loss = 30.77669422473733\n",
      "epoch = 6, loss = 28.797473839360467\n",
      "epoch = 7, loss = 27.34133559975266\n",
      "epoch = 8, loss = 25.900322048375063\n",
      "epoch = 9, loss = 24.86068029501293\n",
      "epoch = 10, loss = 23.755633593985134\n",
      "epoch = 11, loss = 22.906431193419806\n",
      "epoch = 12, loss = 22.15302910619862\n",
      "epoch = 13, loss = 21.2813177195502\n",
      "epoch = 14, loss = 20.72970960640927\n",
      "epoch = 15, loss = 20.087229795950666\n",
      "epoch = 16, loss = 19.682110277424748\n",
      "epoch = 17, loss = 19.09325480688519\n",
      "epoch = 18, loss = 18.706569017422442\n",
      "epoch = 19, loss = 18.239183491728998\n",
      "epoch = 20, loss = 17.77183224970661\n",
      "epoch = 21, loss = 17.482066347140364\n",
      "epoch = 22, loss = 17.05122542196194\n",
      "epoch = 23, loss = 16.856398608856\n",
      "epoch = 24, loss = 16.491958622062167\n",
      "epoch = 25, loss = 16.22817586408131\n",
      "epoch = 26, loss = 15.739731408432982\n",
      "epoch = 27, loss = 15.681296746785929\n",
      "epoch = 28, loss = 15.448484649683474\n",
      "epoch = 29, loss = 15.175801887508415\n",
      "epoch = 30, loss = 14.931540203519774\n",
      "epoch = 31, loss = 14.711154965179743\n",
      "epoch = 32, loss = 14.726952965279716\n",
      "epoch = 33, loss = 14.415679763034483\n",
      "epoch = 34, loss = 14.170739619716942\n",
      "epoch = 35, loss = 14.052217390479703\n",
      "epoch = 36, loss = 13.939270600425553\n",
      "epoch = 37, loss = 13.898199153991301\n",
      "epoch = 38, loss = 13.503309583973499\n",
      "epoch = 39, loss = 13.576307142307789\n",
      "epoch = 40, loss = 13.368482999527112\n",
      "epoch = 41, loss = 13.211926272058403\n",
      "epoch = 42, loss = 13.13839098882748\n",
      "epoch = 43, loss = 13.04862694021066\n",
      "epoch = 44, loss = 12.75361363363113\n",
      "epoch = 45, loss = 12.765874758522893\n",
      "epoch = 46, loss = 12.610846303527627\n",
      "epoch = 47, loss = 12.521071353518716\n",
      "epoch = 48, loss = 12.473186689773932\n",
      "epoch = 49, loss = 12.336364429553827\n"
     ]
    }
   ],
   "source": [
    "# Build the computational graph\n",
    "@tf.function # this decorator tells tf that a graph is defined\n",
    "def mlp_train(x, y, alpha):\n",
    "    h = tf.maximum(tf.matmul(x, w1) + b1, 0.0) # ReLU\n",
    "    y_pred = tf.sigmoid(tf.matmul(h, w2) + b2) # Sigmoid\n",
    "    \n",
    "    # Loss\n",
    "    diff = y_pred - y\n",
    "    loss = tf.reduce_mean(tf.pow(diff, 2))\n",
    "    \n",
    "    grad_w1, grad_b1, grad_w2, grad_b2 = tf.gradients(ys=loss, xs=[w1, b1, w2, b2])\n",
    "    w1.assign(w1 - alpha * grad_w1)\n",
    "    b1.assign(b1 - alpha * grad_b1)\n",
    "    w2.assign(w2 - alpha * grad_w2)\n",
    "    b2.assign(b2 - alpha * grad_b2)\n",
    "    return y_pred, loss\n",
    "\n",
    "# Init the tf.Variables\n",
    "w1 = tf.Variable(tf.random.truncated_normal((D, H), stddev = 0.1, dtype='float64'))\n",
    "b1 = tf.Variable(tf.constant(0.0, shape=[H], dtype='float64'))\n",
    "w2 = tf.Variable(tf.random.truncated_normal((H, n_classes), stddev = 0.1, dtype='float64'))\n",
    "b2 = tf.Variable(tf.constant(0.0, shape=[n_classes], dtype='float64'))\n",
    "\n",
    "# Run the computational graph\n",
    "J = [] # to store the evolution of loss J for each epoch\n",
    "for epoch in range(E):\n",
    "    J_epoch = 0.0\n",
    "    for _ in range(int(N/B)): # number of batches to visit for 1 epoch\n",
    "        x_train_batch, y_train_batch = next_batch(B, x_train, y_train)\n",
    "        with tf.device('/CPU:0'):  # change to /GPU:0 to move it to GPU\n",
    "            out = mlp_train(x_train_batch, y_train_batch, A)\n",
    "        y_pred, loss_val = out\n",
    "        J_epoch += loss_val\n",
    "    J.append(J_epoch)\n",
    "    print(\"epoch = {}, loss = {}\".format(epoch, J_epoch))"
   ]
  },
  {
   "cell_type": "code",
   "execution_count": 14,
   "metadata": {},
   "outputs": [
    {
     "data": {
      "text/plain": [
       "[<matplotlib.lines.Line2D at 0x1eee5e14610>]"
      ]
     },
     "execution_count": 14,
     "metadata": {},
     "output_type": "execute_result"
    },
    {
     "data": {
      "image/png": "[encoded data removed]",
      "text/plain": [
       "<Figure size 432x288 with 1 Axes>"
      ]
     },
     "metadata": {
      "needs_background": "light"
     },
     "output_type": "display_data"
    }
   ],
   "source": [
    "# Plot the evolution of the loss\n",
    "plt.plot(J)"
   ]
  },
  {
   "cell_type": "code",
   "execution_count": 15,
   "metadata": {},
   "outputs": [
    {
     "name": "stdout",
     "output_type": "stream",
     "text": [
      "Forward pass on test set done.\n"
     ]
    }
   ],
   "source": [
    "#################\n",
    "# Testing phase #\n",
    "#################\n",
    "\n",
    "N = x_test.shape[0]  # number of samples\n",
    "D = x_test.shape[1]  # dimension of input sample\n",
    "\n",
    "# Build the computational graph\n",
    "@tf.function # this decorator tells tf that a graph is defined\n",
    "def mlp_test(x, y):\n",
    "    h = tf.maximum(tf.matmul(x, w1) + b1, 0.0)\n",
    "    y_pred = tf.sigmoid(tf.matmul(h, w2) + b2)\n",
    "    return y_pred\n",
    "\n",
    "# Run the computational graph\n",
    "with tf.device('/CPU:0'):  # change to /GPU:0 to move it to GPU\n",
    "    y_pred_test = mlp_test(x_test, y_test)\n",
    "\n",
    "print('Forward pass on test set done.')"
   ]
  },
  {
   "cell_type": "code",
   "execution_count": 16,
   "metadata": {},
   "outputs": [
    {
     "name": "stdout",
     "output_type": "stream",
     "text": [
      "# samples  :  10000\n",
      "# correct  :  8786\n",
      "# missed   :  1214\n",
      "accuracy   :  87.86 %\n",
      "error rate :  12.14 %\n"
     ]
    }
   ],
   "source": [
    "# compute accuracy\n",
    "y_winner = np.argmax(y_pred_test, axis=1)\n",
    "N_test = y_winner.size\n",
    "num_correct = (y_winner == y_test_vec).sum()\n",
    "num_missed = N_test - num_correct\n",
    "accuracy = num_correct * 1.0 / N_test\n",
    "error_rate = num_missed * 1.0 / N_test\n",
    "print('# samples  : ', N_test)\n",
    "print('# correct  : ', num_correct)\n",
    "print('# missed   : ', num_missed)\n",
    "print('accuracy   :  %2.2f %%'% (accuracy*100.0))\n",
    "print('error rate :  %2.2f %%'% (error_rate*100.0))"
   ]
  },
  {
   "cell_type": "markdown",
   "metadata": {},
   "source": [
    "## Exercise 4 – MLP with TensorFlow 2.0 and Keras"
   ]
  },
  {
   "cell_type": "code",
   "execution_count": 17,
   "metadata": {},
   "outputs": [
    {
     "name": "stdout",
     "output_type": "stream",
     "text": [
      "Model: \"sequential\"\n",
      "_________________________________________________________________\n",
      "Layer (type)                 Output Shape              Param #   \n",
      "=================================================================\n",
      "dense (Dense)                (None, 300)               235500    \n",
      "_________________________________________________________________\n",
      "dense_1 (Dense)              (None, 10)                3010      \n",
      "=================================================================\n",
      "Total params: 238,510\n",
      "Trainable params: 238,510\n",
      "Non-trainable params: 0\n",
      "_________________________________________________________________\n",
      "Epoch 1/50\n",
      "469/469 [==============================] - 1s 1ms/step - loss: 0.1772 - accuracy: 0.1339\n",
      "Epoch 2/50\n",
      "469/469 [==============================] - 1s 1ms/step - loss: 0.0927 - accuracy: 0.3424\n",
      "Epoch 3/50\n",
      "469/469 [==============================] - 1s 1ms/step - loss: 0.0856 - accuracy: 0.4324\n",
      "Epoch 4/50\n",
      "469/469 [==============================] - 1s 1ms/step - loss: 0.0815 - accuracy: 0.4677\n",
      "Epoch 5/50\n",
      "469/469 [==============================] - 1s 1ms/step - loss: 0.0780 - accuracy: 0.5010\n",
      "Epoch 6/50\n",
      "469/469 [==============================] - 1s 1ms/step - loss: 0.0744 - accuracy: 0.5371\n",
      "Epoch 7/50\n",
      "469/469 [==============================] - 1s 1ms/step - loss: 0.0710 - accuracy: 0.5728\n",
      "Epoch 8/50\n",
      "469/469 [==============================] - 1s 1ms/step - loss: 0.0679 - accuracy: 0.6012\n",
      "Epoch 9/50\n",
      "469/469 [==============================] - 1s 1ms/step - loss: 0.0650 - accuracy: 0.6226\n",
      "Epoch 10/50\n",
      "469/469 [==============================] - 1s 1ms/step - loss: 0.0622 - accuracy: 0.6392\n",
      "Epoch 11/50\n",
      "469/469 [==============================] - 1s 1ms/step - loss: 0.0596 - accuracy: 0.6556\n",
      "Epoch 12/50\n",
      "469/469 [==============================] - 1s 1ms/step - loss: 0.0577 - accuracy: 0.6716\n",
      "Epoch 13/50\n",
      "469/469 [==============================] - 1s 1ms/step - loss: 0.0554 - accuracy: 0.6955\n",
      "Epoch 14/50\n",
      "469/469 [==============================] - 1s 1ms/step - loss: 0.0536 - accuracy: 0.7191\n",
      "Epoch 15/50\n",
      "469/469 [==============================] - 1s 1ms/step - loss: 0.0522 - accuracy: 0.7365\n",
      "Epoch 16/50\n",
      "469/469 [==============================] - 1s 1ms/step - loss: 0.0503 - accuracy: 0.7594\n",
      "Epoch 17/50\n",
      "469/469 [==============================] - 1s 1ms/step - loss: 0.0489 - accuracy: 0.7771\n",
      "Epoch 18/50\n",
      "469/469 [==============================] - 1s 1ms/step - loss: 0.0474 - accuracy: 0.7941\n",
      "Epoch 19/50\n",
      "469/469 [==============================] - 1s 1ms/step - loss: 0.0461 - accuracy: 0.8053\n",
      "Epoch 20/50\n",
      "469/469 [==============================] - 1s 1ms/step - loss: 0.0451 - accuracy: 0.8110\n",
      "Epoch 21/50\n",
      "469/469 [==============================] - 1s 1ms/step - loss: 0.0437 - accuracy: 0.8210\n",
      "Epoch 22/50\n",
      "469/469 [==============================] - 1s 1ms/step - loss: 0.0426 - accuracy: 0.8295\n",
      "Epoch 23/50\n",
      "469/469 [==============================] - 1s 1ms/step - loss: 0.0417 - accuracy: 0.8319\n",
      "Epoch 24/50\n",
      "469/469 [==============================] - 1s 1ms/step - loss: 0.0408 - accuracy: 0.8356\n",
      "Epoch 25/50\n",
      "469/469 [==============================] - 1s 1ms/step - loss: 0.0401 - accuracy: 0.8375\n",
      "Epoch 26/50\n",
      "469/469 [==============================] - 1s 1ms/step - loss: 0.0392 - accuracy: 0.8394\n",
      "Epoch 27/50\n",
      "469/469 [==============================] - 1s 1ms/step - loss: 0.0384 - accuracy: 0.8419\n",
      "Epoch 28/50\n",
      "469/469 [==============================] - 1s 1ms/step - loss: 0.0377 - accuracy: 0.8448\n",
      "Epoch 29/50\n",
      "469/469 [==============================] - 1s 1ms/step - loss: 0.0371 - accuracy: 0.8474\n",
      "Epoch 30/50\n",
      "469/469 [==============================] - 1s 1ms/step - loss: 0.0364 - accuracy: 0.8483\n",
      "Epoch 31/50\n",
      "469/469 [==============================] - 1s 1ms/step - loss: 0.0359 - accuracy: 0.8475\n",
      "Epoch 32/50\n",
      "469/469 [==============================] - 1s 1ms/step - loss: 0.0353 - accuracy: 0.8514\n",
      "Epoch 33/50\n",
      "469/469 [==============================] - 1s 1ms/step - loss: 0.0346 - accuracy: 0.8545\n",
      "Epoch 34/50\n",
      "469/469 [==============================] - 1s 1ms/step - loss: 0.0343 - accuracy: 0.8529\n",
      "Epoch 35/50\n",
      "469/469 [==============================] - 1s 1ms/step - loss: 0.0336 - accuracy: 0.8573\n",
      "Epoch 36/50\n",
      "469/469 [==============================] - 1s 1ms/step - loss: 0.0331 - accuracy: 0.8581\n",
      "Epoch 37/50\n",
      "469/469 [==============================] - 1s 1ms/step - loss: 0.0327 - accuracy: 0.8591\n",
      "Epoch 38/50\n",
      "469/469 [==============================] - 1s 1ms/step - loss: 0.0323 - accuracy: 0.8607\n",
      "Epoch 39/50\n",
      "469/469 [==============================] - 1s 1ms/step - loss: 0.0319 - accuracy: 0.8612\n",
      "Epoch 40/50\n",
      "469/469 [==============================] - 1s 1ms/step - loss: 0.0315 - accuracy: 0.8633\n",
      "Epoch 41/50\n",
      "469/469 [==============================] - 1s 1ms/step - loss: 0.0313 - accuracy: 0.8628\n",
      "Epoch 42/50\n",
      "469/469 [==============================] - 1s 1ms/step - loss: 0.0309 - accuracy: 0.8660\n",
      "Epoch 43/50\n",
      "469/469 [==============================] - 1s 1ms/step - loss: 0.0306 - accuracy: 0.8668\n",
      "Epoch 44/50\n",
      "469/469 [==============================] - 1s 1ms/step - loss: 0.0304 - accuracy: 0.8646\n",
      "Epoch 45/50\n",
      "469/469 [==============================] - 1s 1ms/step - loss: 0.0301 - accuracy: 0.8656\n",
      "Epoch 46/50\n",
      "469/469 [==============================] - 1s 1ms/step - loss: 0.0295 - accuracy: 0.8692\n",
      "Epoch 47/50\n",
      "469/469 [==============================] - 1s 1ms/step - loss: 0.0295 - accuracy: 0.8695\n",
      "Epoch 48/50\n",
      "469/469 [==============================] - ETA: 0s - loss: 0.0290 - accuracy: 0.87 - 1s 1ms/step - loss: 0.0290 - accuracy: 0.8704\n",
      "Epoch 49/50\n",
      "469/469 [==============================] - 1s 1ms/step - loss: 0.0289 - accuracy: 0.8704\n",
      "Epoch 50/50\n",
      "469/469 [==============================] - 1s 1ms/step - loss: 0.0290 - accuracy: 0.8668\n",
      "313/313 - 0s - loss: 0.0276 - accuracy: 0.8813\n"
     ]
    },
    {
     "data": {
      "text/plain": [
       "[0.02757449261844158, 0.8812999725341797]"
      ]
     },
     "execution_count": 17,
     "metadata": {},
     "output_type": "execute_result"
    }
   ],
   "source": [
    "model = tf.keras.models.Sequential()\n",
    "\n",
    "# Add the hidden and output layers\n",
    "model.add(tf.keras.layers.Dense(H, input_shape=(D,), use_bias=True, activation='relu'))\n",
    "model.add(tf.keras.layers.Dense(n_classes, input_shape=(H,), use_bias=True, activation='sigmoid'))\n",
    "\n",
    "model.summary()\n",
    "\n",
    "sgd = tf.keras.optimizers.SGD(learning_rate=A)\n",
    "\n",
    "model.compile(optimizer=sgd, loss='mse', metrics=['accuracy'])\n",
    "\n",
    "history = model.fit(x_train, y_train, batch_size=B, epochs=E)\n",
    "\n",
    "model.evaluate(x_test, y_test, verbose=2)"
   ]
  },
  {
   "cell_type": "code",
   "execution_count": 18,
   "metadata": {},
   "outputs": [
    {
     "name": "stdout",
     "output_type": "stream",
     "text": [
      "dict_keys(['loss', 'accuracy'])\n"
     ]
    },
    {
     "data": {
      "image/png": "[encoded data removed]",
      "text/plain": [
       "<Figure size 432x288 with 1 Axes>"
      ]
     },
     "metadata": {
      "needs_background": "light"
     },
     "output_type": "display_data"
    },
    {
     "data": {
      "image/png": "[encoded data removed]",
      "text/plain": [
       "<Figure size 432x288 with 1 Axes>"
      ]
     },
     "metadata": {
      "needs_background": "light"
     },
     "output_type": "display_data"
    }
   ],
   "source": [
    "# list all data in history\n",
    "print(history.history.keys())\n",
    "\n",
    "# plot/summarize history for loss and accuracy\n",
    "plt.plot(history.history['loss'])\n",
    "plt.title('Evolution of model loss during training')\n",
    "plt.ylabel('Loss')\n",
    "plt.xlabel('Epoch')\n",
    "plt.show()\n",
    "plt.plot(history.history['accuracy'])\n",
    "plt.title('Evolution of model accuracy during training')\n",
    "plt.ylabel('Accuracy')\n",
    "plt.xlabel('Epoch')\n",
    "plt.show()"
   ]
  },
  {
   "cell_type": "markdown",
   "metadata": {},
   "source": [
    "### With Softmax and a cross-entropy loss"
   ]
  },
  {
   "cell_type": "code",
   "execution_count": 6,
   "metadata": {},
   "outputs": [
    {
     "name": "stdout",
     "output_type": "stream",
     "text": [
      "Model: \"sequential_1\"\n",
      "_________________________________________________________________\n",
      "Layer (type)                 Output Shape              Param #   \n",
      "=================================================================\n",
      "dense (Dense)                (None, 300)               235500    \n",
      "_________________________________________________________________\n",
      "dense_1 (Dense)              (None, 10)                3010      \n",
      "=================================================================\n",
      "Total params: 238,510\n",
      "Trainable params: 238,510\n",
      "Non-trainable params: 0\n",
      "_________________________________________________________________\n",
      "Epoch 1/50\n",
      "469/469 [==============================] - 1s 949us/step - loss: 1.5272 - accuracy: 0.6085\n",
      "Epoch 2/50\n",
      "469/469 [==============================] - 0s 989us/step - loss: 0.5648 - accuracy: 0.8646\n",
      "Epoch 3/50\n",
      "469/469 [==============================] - 0s 921us/step - loss: 0.4384 - accuracy: 0.8867\n",
      "Epoch 4/50\n",
      "469/469 [==============================] - 0s 919us/step - loss: 0.3849 - accuracy: 0.8947\n",
      "Epoch 5/50\n",
      "469/469 [==============================] - 0s 910us/step - loss: 0.3576 - accuracy: 0.9018\n",
      "Epoch 6/50\n",
      "469/469 [==============================] - 0s 919us/step - loss: 0.3322 - accuracy: 0.9080\n",
      "Epoch 7/50\n",
      "469/469 [==============================] - 0s 934us/step - loss: 0.3151 - accuracy: 0.9114\n",
      "Epoch 8/50\n",
      "469/469 [==============================] - 0s 925us/step - loss: 0.3029 - accuracy: 0.9141\n",
      "Epoch 9/50\n",
      "469/469 [==============================] - 0s 974us/step - loss: 0.2917 - accuracy: 0.9188\n",
      "Epoch 10/50\n",
      "469/469 [==============================] - 0s 925us/step - loss: 0.2807 - accuracy: 0.9219\n",
      "Epoch 11/50\n",
      "469/469 [==============================] - 0s 966us/step - loss: 0.2662 - accuracy: 0.9251\n",
      "Epoch 12/50\n",
      "469/469 [==============================] - 0s 927us/step - loss: 0.2617 - accuracy: 0.9280\n",
      "Epoch 13/50\n",
      "469/469 [==============================] - 0s 947us/step - loss: 0.2546 - accuracy: 0.9304\n",
      "Epoch 14/50\n",
      "469/469 [==============================] - 0s 942us/step - loss: 0.2459 - accuracy: 0.9303\n",
      "Epoch 15/50\n",
      "469/469 [==============================] - 0s 944us/step - loss: 0.2416 - accuracy: 0.9330\n",
      "Epoch 16/50\n",
      "469/469 [==============================] - 0s 949us/step - loss: 0.2399 - accuracy: 0.9335\n",
      "Epoch 17/50\n",
      "469/469 [==============================] - 0s 959us/step - loss: 0.2326 - accuracy: 0.9363\n",
      "Epoch 18/50\n",
      "469/469 [==============================] - 0s 972us/step - loss: 0.2272 - accuracy: 0.9369\n",
      "Epoch 19/50\n",
      "469/469 [==============================] - 0s 989us/step - loss: 0.2183 - accuracy: 0.9389\n",
      "Epoch 20/50\n",
      "469/469 [==============================] - 0s 1ms/step - loss: 0.2123 - accuracy: 0.9408\n",
      "Epoch 21/50\n",
      "469/469 [==============================] - 0s 1000us/step - loss: 0.2056 - accuracy: 0.9433\n",
      "Epoch 22/50\n",
      "469/469 [==============================] - 0s 968us/step - loss: 0.2030 - accuracy: 0.9432\n",
      "Epoch 23/50\n",
      "469/469 [==============================] - 0s 972us/step - loss: 0.1966 - accuracy: 0.9454\n",
      "Epoch 24/50\n",
      "469/469 [==============================] - 0s 979us/step - loss: 0.1994 - accuracy: 0.9447\n",
      "Epoch 25/50\n",
      "469/469 [==============================] - 0s 966us/step - loss: 0.1953 - accuracy: 0.9457\n",
      "Epoch 26/50\n",
      "469/469 [==============================] - 0s 1ms/step - loss: 0.1966 - accuracy: 0.9457\n",
      "Epoch 27/50\n",
      "469/469 [==============================] - 1s 1ms/step - loss: 0.1836 - accuracy: 0.9492\n",
      "Epoch 28/50\n",
      "469/469 [==============================] - 1s 1ms/step - loss: 0.1863 - accuracy: 0.9484\n",
      "Epoch 29/50\n",
      "469/469 [==============================] - 0s 996us/step - loss: 0.1781 - accuracy: 0.9501\n",
      "Epoch 30/50\n",
      "469/469 [==============================] - 0s 996us/step - loss: 0.1758 - accuracy: 0.9517\n",
      "Epoch 31/50\n",
      "469/469 [==============================] - 0s 1ms/step - loss: 0.1711 - accuracy: 0.9520\n",
      "Epoch 32/50\n",
      "469/469 [==============================] - 1s 1ms/step - loss: 0.1709 - accuracy: 0.9524\n",
      "Epoch 33/50\n",
      "469/469 [==============================] - 1s 1ms/step - loss: 0.1632 - accuracy: 0.9549\n",
      "Epoch 34/50\n",
      "469/469 [==============================] - 1s 1ms/step - loss: 0.1637 - accuracy: 0.9541\n",
      "Epoch 35/50\n",
      "469/469 [==============================] - 1s 1ms/step - loss: 0.1604 - accuracy: 0.9565\n",
      "Epoch 36/50\n",
      "469/469 [==============================] - 1s 1ms/step - loss: 0.1570 - accuracy: 0.9557\n",
      "Epoch 37/50\n",
      "469/469 [==============================] - 1s 1ms/step - loss: 0.1573 - accuracy: 0.9554\n",
      "Epoch 38/50\n",
      "469/469 [==============================] - 1s 1ms/step - loss: 0.1551 - accuracy: 0.9562\n",
      "Epoch 39/50\n",
      "469/469 [==============================] - 1s 1ms/step - loss: 0.1532 - accuracy: 0.9561\n",
      "Epoch 40/50\n",
      "469/469 [==============================] - 1s 1ms/step - loss: 0.1507 - accuracy: 0.9580\n",
      "Epoch 41/50\n",
      "469/469 [==============================] - 1s 1ms/step - loss: 0.1464 - accuracy: 0.9586\n",
      "Epoch 42/50\n",
      "469/469 [==============================] - 1s 1ms/step - loss: 0.1456 - accuracy: 0.9593\n",
      "Epoch 43/50\n",
      "469/469 [==============================] - 1s 1ms/step - loss: 0.1440 - accuracy: 0.9598\n",
      "Epoch 44/50\n",
      "469/469 [==============================] - 1s 1ms/step - loss: 0.1416 - accuracy: 0.9603\n",
      "Epoch 45/50\n",
      "469/469 [==============================] - 1s 1ms/step - loss: 0.1385 - accuracy: 0.9613\n",
      "Epoch 46/50\n",
      "469/469 [==============================] - 1s 1ms/step - loss: 0.1341 - accuracy: 0.9627\n",
      "Epoch 47/50\n",
      "469/469 [==============================] - 1s 1ms/step - loss: 0.1353 - accuracy: 0.9625\n",
      "Epoch 48/50\n",
      "469/469 [==============================] - 1s 1ms/step - loss: 0.1343 - accuracy: 0.9636\n",
      "Epoch 49/50\n",
      "469/469 [==============================] - 1s 1ms/step - loss: 0.1286 - accuracy: 0.9639\n",
      "Epoch 50/50\n",
      "469/469 [==============================] - 1s 1ms/step - loss: 0.1319 - accuracy: 0.9635\n",
      "313/313 - 0s - loss: 0.1369 - accuracy: 0.9604\n"
     ]
    },
    {
     "data": {
      "text/plain": [
       "[0.13694977760314941, 0.9603999853134155]"
      ]
     },
     "execution_count": 6,
     "metadata": {},
     "output_type": "execute_result"
    }
   ],
   "source": [
    "model = tf.keras.models.Sequential()\n",
    "\n",
    "# Add the hidden and output layers\n",
    "model.add(tf.keras.layers.Dense(H, input_shape=(D,), use_bias=True, activation='relu'))\n",
    "model.add(tf.keras.layers.Dense(n_classes, input_shape=(H,), use_bias=True, activation='softmax'))\n",
    "\n",
    "model.summary()\n",
    "\n",
    "sgd = tf.keras.optimizers.SGD(learning_rate=A)\n",
    "\n",
    "model.compile(optimizer=sgd, loss='categorical_crossentropy', metrics=['accuracy'])\n",
    "\n",
    "history = model.fit(x_train, y_train, batch_size=B, epochs=E)\n",
    "\n",
    "model.evaluate(x_test, y_test, verbose=2)"
   ]
  },
  {
   "cell_type": "code",
   "execution_count": 8,
   "metadata": {},
   "outputs": [
    {
     "data": {
      "image/png": "[encoded data removed]",
      "text/plain": [
       "<Figure size 432x288 with 1 Axes>"
      ]
     },
     "metadata": {
      "needs_background": "light"
     },
     "output_type": "display_data"
    },
    {
     "data": {
      "image/png": "[encoded data removed]",
      "text/plain": [
       "<Figure size 432x288 with 1 Axes>"
      ]
     },
     "metadata": {
      "needs_background": "light"
     },
     "output_type": "display_data"
    }
   ],
   "source": [
    "# plot/summarize history for loss and accuracy\n",
    "plt.plot(history.history['loss'])\n",
    "plt.title('Evolution of model loss during training')\n",
    "plt.ylabel('Loss')\n",
    "plt.xlabel('Epoch')\n",
    "plt.show()\n",
    "plt.plot(history.history['accuracy'])\n",
    "plt.title('Evolution of model accuracy during training')\n",
    "plt.ylabel('Accuracy')\n",
    "plt.xlabel('Epoch')\n",
    "plt.show()"
   ]
  },
  {
   "cell_type": "code",
   "execution_count": null,
   "metadata": {},
   "outputs": [],
   "source": []
  }
 ],
 "metadata": {
  "kernelspec": {
   "display_name": "Python 3",
   "language": "python",
   "name": "python3"
  },
  "language_info": {
   "codemirror_mode": {
    "name": "ipython",
    "version": 3
   },
   "file_extension": ".py",
   "mimetype": "text/x-python",
   "name": "python",
   "nbconvert_exporter": "python",
   "pygments_lexer": "ipython3",
   "version": "3.9.4"
  }
 },
 "nbformat": 4,
 "nbformat_minor": 2
}
