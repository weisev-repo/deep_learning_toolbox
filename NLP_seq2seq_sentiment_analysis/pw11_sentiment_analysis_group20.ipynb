{
 "cells": [
  {
   "cell_type": "markdown",
   "metadata": {
    "collapsed": true,
    "pycharm": {
     "name": "#%% md\n"
    }
   },
   "source": [
    "Group 20 members:\n",
    "- Janick Michot:          michojan@students.zhaw.ch\n",
    "- Andre von Aarburg :     andre.vonaarburg@ost.ch\n",
    "- Manuel Weiss:           weissman@students.zhaw.ch"
   ]
  },
  {
   "cell_type": "markdown",
   "metadata": {
    "collapsed": false,
    "pycharm": {
     "name": "#%% md\n"
    }
   },
   "source": [
    "# Exercise 2 | Word polarity detection with word embedding\n",
    "\n",
    "The objective is to build a system that takes as input a word and outputs a probability that the\n",
    "word has a positive or negative connotation (polarity). As illustrated in Figure 2, the system is\n",
    "composed of two parts in which the word embedding part will leverage on pre-trained vectors\n",
    "such as the one obtained with word2vec or GloVe. If you are not familiar with word embeddings,\n",
    "we recommend you to watch the class material including videos and pdf posted on Moodle."
   ]
  },
  {
   "cell_type": "code",
   "execution_count": 1,
   "metadata": {
    "collapsed": false,
    "pycharm": {
     "name": "#%%\n"
    }
   },
   "outputs": [],
   "source": [
    "import numpy as np\n",
    "import tensorflow as tf\n",
    "from tensorflow import keras\n",
    "from keras import Sequential, models, layers, callbacks, optimizers\n",
    "import matplotlib.pyplot as plt\n",
    "import pandas as pd"
   ]
  },
  {
   "cell_type": "markdown",
   "metadata": {
    "collapsed": false,
    "pycharm": {
     "name": "#%% md\n"
    }
   },
   "source": [
    "## a) Read lexicons\n",
    "\n",
    "Download lists of positive and negative words from the Opinion Lexicon\n",
    "available from https://www.cs.uic.edu/~liub/FBS/sentiment-analysis.html. A zip\n",
    "is also provided on Moodle. Listing 1 provides an example of function to read the lexicons.\n",
    "You may want to complete the code to remove lines that start with ;, that end with +\n",
    "and to remove empty lines. You should get 2005 positive words and 4783 negative words."
   ]
  },
  {
   "cell_type": "code",
   "execution_count": 87,
   "metadata": {
    "collapsed": false,
    "pycharm": {
     "name": "#%%\n"
    }
   },
   "outputs": [],
   "source": [
    "def read_vocabulary(filename: str) -> list[str]:\n",
    "    with open(filename, 'r', encoding='ISO-8859-1') as f:\n",
    "        content: list[str] = f.readlines() # content is a list of lines\n",
    "        content = [x.strip() for x in content] # removing newline chars\n",
    "        content = [x for x in content if not x.startswith(\";\") and not x.endswith(\"+\") and not x == '']\n",
    "        return content"
   ]
  },
  {
   "cell_type": "code",
   "execution_count": 101,
   "metadata": {
    "collapsed": false,
    "pycharm": {
     "name": "#%%\n"
    }
   },
   "outputs": [
    {
     "name": "stdout",
     "output_type": "stream",
     "text": [
      "# positives: 2005 \n",
      "\n",
      "positive examples: \n",
      " ['adaptive' 'adequate' 'adjustable' 'admirable' 'admirably'] \n",
      "\n",
      "# negatives: 4783 \n",
      "\n",
      "negative examples: \n",
      " ['abuses' 'abusive' 'abysmal' 'abysmally' 'abyss'] \n",
      "\n"
     ]
    }
   ],
   "source": [
    "positive_filename: str = \"./data/positive-words.txt\"\n",
    "negative_filename: str = \"./data/negative-words.txt\"\n",
    "\n",
    "positive: np.ndarray = np.array(read_vocabulary(positive_filename))\n",
    "negative: np.ndarray = np.array(read_vocabulary(negative_filename))\n",
    "\n",
    "print(\"# positives:\", len(positive), \"\\n\")\n",
    "print(\"positive examples: \\n\", positive[25:30], \"\\n\")\n",
    "print(\"# negatives:\", len(negative), \"\\n\")\n",
    "print(\"negative examples: \\n\", negative[25:30], \"\\n\")"
   ]
  },
  {
   "cell_type": "markdown",
   "metadata": {
    "collapsed": false,
    "pycharm": {
     "name": "#%% md\n"
    }
   },
   "source": [
    "## b) Convert words into vectors\n",
    "You can here go for two options : either by querying\n",
    "an online API that returns you the vectors for a given word, or download a pre-trained\n",
    "word-vector dictionary (word2vec, GloVe, etc.). The code provided in Listing 2 shows you\n",
    "how to realise this using a GloVe embedding – zip also provided on Moodle."
   ]
  },
  {
   "cell_type": "markdown",
   "metadata": {
    "collapsed": false,
    "pycharm": {
     "name": "#%% md\n"
    }
   },
   "source": [
    "### Glove\n",
    "Importing pretrained glove embeddings"
   ]
  },
  {
   "cell_type": "code",
   "execution_count": 85,
   "metadata": {
    "collapsed": false,
    "pycharm": {
     "name": "#%%\n"
    }
   },
   "outputs": [],
   "source": [
    "def load_glove_embeddings(path: str):\n",
    "    embeddings = {}\n",
    "    with open(path, 'r', encoding='utf−8') as f:\n",
    "        for line in f:\n",
    "            values = line.strip().split()\n",
    "            w = values[0]\n",
    "            vectors = np.asarray(values[1:], dtype='float32')\n",
    "            embeddings[w] = vectors\n",
    "    return embeddings"
   ]
  },
  {
   "cell_type": "code",
   "execution_count": 20,
   "metadata": {
    "collapsed": false,
    "pycharm": {
     "name": "#%%\n"
    }
   },
   "outputs": [],
   "source": [
    "glove_path: str = './data/glove.6B.50d.txt'\n",
    "glove_dict = load_glove_embeddings(glove_path)"
   ]
  },
  {
   "cell_type": "code",
   "execution_count": 25,
   "metadata": {
    "collapsed": false,
    "pycharm": {
     "name": "#%%\n"
    }
   },
   "outputs": [
    {
     "name": "stdout",
     "output_type": "stream",
     "text": [
      "Type: <class 'dict'> \n",
      "\n",
      "Keys:\n",
      "['the', ',', '.', 'of', 'to', 'and', 'in', 'a', '\"', \"'s\"]\n"
     ]
    }
   ],
   "source": [
    "print(\"Type:\", type(glove_dict), \"\\n\")\n",
    "print(\"Keys:\")\n",
    "print(list(glove_dict.keys())[:10])"
   ]
  },
  {
   "cell_type": "code",
   "execution_count": 80,
   "metadata": {
    "collapsed": false,
    "pycharm": {
     "name": "#%%\n"
    }
   },
   "outputs": [
    {
     "name": "stdout",
     "output_type": "stream",
     "text": [
      "[ 0.092086  0.2571   -0.58693  -0.37029   1.0828   -0.55466  -0.78142\n",
      "  0.58696  -0.58714   0.46318  -0.11267   0.2606   -0.26928  -0.072466\n",
      "  1.247     0.30571   0.56731   0.30509  -0.050312 -0.64443  -0.54513\n",
      "  0.86429   0.20914   0.56334   1.1228   -1.0516   -0.78105   0.29656\n",
      "  0.7261   -0.61392   2.4225    1.0142   -0.17753   0.4147   -0.12966\n",
      " -0.47064   0.3807    0.16309  -0.323    -0.77899  -0.42473  -0.30826\n",
      " -0.42242   0.055069  0.38267   0.037415 -0.4302   -0.39442   0.10511\n",
      "  0.87286 ] \n",
      "\n",
      "Glove embedding size: 50\n"
     ]
    }
   ],
   "source": [
    "word = 'happy'\n",
    "glove_test_vector = glove_dict[word]\n",
    "\n",
    "print(glove_test_vector, \"\\n\")\n",
    "print(\"Glove embedding size:\", len(glove_test_vector))"
   ]
  },
  {
   "cell_type": "markdown",
   "metadata": {
    "collapsed": false,
    "pycharm": {
     "name": "#%% md\n"
    }
   },
   "source": [
    "### c) Prepare the training and testing sets.\n",
    "Prepare the tensors X_train for training\n",
    "by taking the corresponding vectors of 1500 positive and 1500 negative words from the\n",
    "lexicon. Prepare the Y_train target output tensor corresponding to the training set. You\n",
    "can, for example use the target [1.0, 0.0] for a positive word and [0.0, 1.0] for a negative\n",
    "word. For an embedding dimension of 50, the shapes of your X_train and Y_train tensors\n",
    "should be (3000,50) and (3000,2). In a similar way, prepare X_test and Y_test tensors."
   ]
  },
  {
   "cell_type": "code",
   "execution_count": 112,
   "metadata": {
    "collapsed": false,
    "pycharm": {
     "name": "#%%\n"
    }
   },
   "outputs": [
    {
     "name": "stdout",
     "output_type": "stream",
     "text": [
      "Positive words not in glove: 112\n",
      "Remaining length positive: 1893\n",
      "Negative words not in glove: 438\n",
      "Remaining length negative: 4345\n"
     ]
    }
   ],
   "source": [
    "# filtering words not in glove dictionary\n",
    "\n",
    "positive_words_not_in_glove = [word for word in positive if word not in glove_dict]\n",
    "filtered_positive = np.array([word for word in positive if word not in positive_words_not_in_glove])\n",
    "\n",
    "print(\"Positive words not in glove:\", len(positive_words_not_in_glove))\n",
    "print(\"Remaining length positive:\", len(filtered_positive))\n",
    "\n",
    "negative_words_not_in_glove = [word for word in negative if word not in glove_dict]\n",
    "filtered_negative = np.array([word for word in negative if word not in negative_words_not_in_glove])\n",
    "\n",
    "print(\"Negative words not in glove:\", len(negative_words_not_in_glove))\n",
    "print(\"Remaining length negative:\", len(filtered_negative))\n"
   ]
  },
  {
   "cell_type": "code",
   "execution_count": 187,
   "metadata": {
    "collapsed": false,
    "pycharm": {
     "name": "#%%\n"
    }
   },
   "outputs": [
    {
     "name": "stdout",
     "output_type": "stream",
     "text": [
      "Train positive size: 1500\n",
      "Test positive size: 393\n",
      "Train negative size: 1500\n",
      "Test negative size: 393\n"
     ]
    }
   ],
   "source": [
    "# Splitting up to positive / negative test and train sets\n",
    "\n",
    "n_train_per_polarity = 1500\n",
    "n_test_per_polarity = len(filtered_positive) - n_train_per_polarity\n",
    "\n",
    "n_train = n_train_per_polarity * 2\n",
    "n_test = n_test_per_polarity * 2\n",
    "\n",
    "positive_indices = np.arange(len(filtered_positive))\n",
    "\n",
    "\n",
    "train_positive_indices = np.random.choice(positive_indices, n_train_per_polarity, replace=False)\n",
    "remaining_positive_indices = np.delete(positive_indices, train_positive_indices)\n",
    "\n",
    "test_positive_indices = np.random.choice(remaining_positive_indices, n_test_per_polarity, replace=False)\n",
    "\n",
    "train_positive_words = filtered_positive[train_positive_indices]\n",
    "test_positive_words = filtered_positive[test_positive_indices]\n",
    "\n",
    "\n",
    "negative_indices = np.arange(len(filtered_negative))\n",
    "train_negative_indices = np.random.choice(negative_indices, n_train_per_polarity, replace=False)\n",
    "remaining_negative_indices = np.delete(negative_indices, train_negative_indices)\n",
    "\n",
    "test_negative_indices = np.random.choice(remaining_negative_indices, n_test_per_polarity, replace=False)\n",
    "\n",
    "train_negative_words = filtered_negative[train_negative_indices]\n",
    "test_negative_words = filtered_negative[test_negative_indices]\n",
    "\n",
    "print(\"Train positive size:\", len(train_positive_words))\n",
    "print(\"Test positive size:\", len(test_positive_words))\n",
    "print(\"Train negative size:\", len(train_negative_words))\n",
    "print(\"Test negative size:\", len(test_negative_words))"
   ]
  },
  {
   "cell_type": "code",
   "execution_count": 188,
   "metadata": {
    "collapsed": false,
    "pycharm": {
     "name": "#%%\n"
    }
   },
   "outputs": [
    {
     "name": "stdout",
     "output_type": "stream",
     "text": [
      "Train positive size: 1500\n",
      "Test positive size: 393\n",
      "Train negative size: 1500\n",
      "Test negative size: 393\n"
     ]
    }
   ],
   "source": [
    "# transforming sets to tensors\n",
    "positive_label = [1.0, 0.0]\n",
    "negative_label = [0.0, 1.0]\n",
    "\n",
    "train_positive = [[glove_dict[word], positive_label] for word in train_positive_words]\n",
    "test_positive = [[glove_dict[word], positive_label] for word in test_positive_words]\n",
    "\n",
    "train_negative = [[glove_dict[word], negative_label] for word in train_negative_words]\n",
    "test_negative = [[glove_dict[word], negative_label] for word in test_negative_words]\n",
    "\n",
    "print(\"Train positive size:\", len(train_positive))\n",
    "print(\"Test positive size:\", len(test_positive))\n",
    "print(\"Train negative size:\", len(train_negative))\n",
    "print(\"Test negative size:\", len(test_negative))"
   ]
  },
  {
   "cell_type": "code",
   "execution_count": 189,
   "metadata": {
    "collapsed": false,
    "pycharm": {
     "name": "#%%\n"
    }
   },
   "outputs": [],
   "source": [
    "train = np.concatenate((train_positive, train_negative), axis=0, dtype=object)\n",
    "np.random.shuffle(train)\n",
    "\n",
    "test = np.concatenate((test_positive, test_negative), axis=0, dtype=object)\n",
    "np.random.shuffle(test)"
   ]
  },
  {
   "cell_type": "code",
   "execution_count": 190,
   "metadata": {
    "collapsed": false,
    "pycharm": {
     "name": "#%%\n"
    }
   },
   "outputs": [
    {
     "name": "stdout",
     "output_type": "stream",
     "text": [
      "X_train Shape (3000, 50)\n",
      "y_train Shape (3000, 2)\n",
      "X_test Shape (786, 50)\n",
      "y_test Shape (786, 2)\n"
     ]
    }
   ],
   "source": [
    "X_train = np.stack(np.asarray(train[:, 0]), axis=0)\n",
    "X_train = tf.convert_to_tensor(X_train, dtype='float32')\n",
    "\n",
    "y_train = np.stack(np.asarray(train[:, 1]), axis=0)\n",
    "y_train = tf.convert_to_tensor(y_train, dtype='float32')\n",
    "\n",
    "X_test = np.stack(np.asarray(test[:, 0]), axis=0)\n",
    "X_test = tf.convert_to_tensor(X_test, dtype='float32')\n",
    "\n",
    "y_test = np.stack(np.asarray(test[:, 1]), axis=0)\n",
    "y_test = tf.convert_to_tensor(y_test, dtype='float32')\n",
    "\n",
    "print(\"X_train Shape\", X_train.shape)\n",
    "print(\"y_train Shape\", y_train.shape)\n",
    "print(\"X_test Shape\", X_test.shape)\n",
    "print(\"y_test Shape\", y_test.shape)"
   ]
  },
  {
   "cell_type": "markdown",
   "metadata": {
    "collapsed": false,
    "pycharm": {
     "name": "#%% md\n"
    }
   },
   "source": [
    "## d) Train and evaluate a classifier\n",
    " Build a model, e.g. a double Dense layers in Keras\n",
    "(MLP) and train it. Report on the evolution of the loss and accuracy along the epochs.\n",
    "You should reach about 90% accuracy on the training set and 85% accuracy on the test\n",
    "set. Report on your model structure and fitting strategy."
   ]
  },
  {
   "cell_type": "code",
   "execution_count": 199,
   "metadata": {
    "collapsed": false,
    "pycharm": {
     "name": "#%%\n"
    }
   },
   "outputs": [],
   "source": [
    "n_classes = len(positive_label)\n",
    "input_shape = X_train.shape[1:]\n",
    "\n",
    "batch_size: int =64\n",
    "n_epochs: int = 10\n",
    "\n",
    "optimizer: str = 'adam'\n",
    "metrics: list[str] = ['accuracy']\n",
    "loss: str = 'categorical_crossentropy'"
   ]
  },
  {
   "cell_type": "code",
   "execution_count": 204,
   "metadata": {
    "collapsed": false,
    "pycharm": {
     "name": "#%%\n"
    }
   },
   "outputs": [],
   "source": [
    "model: Sequential = Sequential(name=\"Sentiment_Analysis_Classifier\")\n",
    "\n",
    "model.add(layers.Dense(units=200, input_shape=input_shape, activation='relu'))\n",
    "model.add(layers.Dense(units=100, activation='relu'))\n",
    "model.add(layers.Dense(units=20, activation='relu'))\n",
    "model.add(layers.Dense(units=n_classes, activation='softmax'))"
   ]
  },
  {
   "cell_type": "code",
   "execution_count": 205,
   "metadata": {
    "collapsed": false,
    "pycharm": {
     "name": "#%%\n"
    }
   },
   "outputs": [
    {
     "name": "stdout",
     "output_type": "stream",
     "text": [
      "Model: \"Sentiment_Analysis_Classifier\"\n",
      "_________________________________________________________________\n",
      " Layer (type)                Output Shape              Param #   \n",
      "=================================================================\n",
      " dense_6 (Dense)             (None, 200)               10200     \n",
      "                                                                 \n",
      " dense_7 (Dense)             (None, 100)               20100     \n",
      "                                                                 \n",
      " dense_8 (Dense)             (None, 20)                2020      \n",
      "                                                                 \n",
      " dense_9 (Dense)             (None, 2)                 42        \n",
      "                                                                 \n",
      "=================================================================\n",
      "Total params: 32,362\n",
      "Trainable params: 32,362\n",
      "Non-trainable params: 0\n",
      "_________________________________________________________________\n",
      "None\n"
     ]
    }
   ],
   "source": [
    "model.compile(optimizer=optimizer, loss=loss, metrics=metrics)\n",
    "print(model.summary())"
   ]
  },
  {
   "cell_type": "code",
   "execution_count": 206,
   "metadata": {
    "collapsed": false,
    "pycharm": {
     "name": "#%%\n"
    }
   },
   "outputs": [
    {
     "name": "stdout",
     "output_type": "stream",
     "text": [
      "Epoch 1/10\n",
      "47/47 [==============================] - 0s 4ms/step - loss: 0.4293 - accuracy: 0.8063 - val_loss: 0.3156 - val_accuracy: 0.8651\n",
      "Epoch 2/10\n",
      "47/47 [==============================] - 0s 2ms/step - loss: 0.2985 - accuracy: 0.8750 - val_loss: 0.2989 - val_accuracy: 0.8753\n",
      "Epoch 3/10\n",
      "47/47 [==============================] - 0s 2ms/step - loss: 0.2669 - accuracy: 0.8867 - val_loss: 0.3029 - val_accuracy: 0.8702\n",
      "Epoch 4/10\n",
      "47/47 [==============================] - 0s 2ms/step - loss: 0.2393 - accuracy: 0.8980 - val_loss: 0.3099 - val_accuracy: 0.8715\n",
      "Epoch 5/10\n",
      "47/47 [==============================] - 0s 2ms/step - loss: 0.2082 - accuracy: 0.9157 - val_loss: 0.3286 - val_accuracy: 0.8626\n",
      "Epoch 6/10\n",
      "47/47 [==============================] - 0s 2ms/step - loss: 0.1878 - accuracy: 0.9263 - val_loss: 0.3078 - val_accuracy: 0.8868\n",
      "Epoch 7/10\n",
      "47/47 [==============================] - 0s 2ms/step - loss: 0.1535 - accuracy: 0.9423 - val_loss: 0.3212 - val_accuracy: 0.8779\n",
      "Epoch 8/10\n",
      "47/47 [==============================] - 0s 2ms/step - loss: 0.1300 - accuracy: 0.9527 - val_loss: 0.3130 - val_accuracy: 0.8830\n",
      "Epoch 9/10\n",
      "47/47 [==============================] - 0s 2ms/step - loss: 0.1113 - accuracy: 0.9637 - val_loss: 0.3647 - val_accuracy: 0.8779\n",
      "Epoch 10/10\n",
      "47/47 [==============================] - 0s 2ms/step - loss: 0.0883 - accuracy: 0.9707 - val_loss: 0.3666 - val_accuracy: 0.8855\n"
     ]
    }
   ],
   "source": [
    "log: callbacks.History = model.fit(X_train, y_train, batch_size=batch_size, epochs=n_epochs, verbose=1, validation_data=(X_test, y_test))"
   ]
  },
  {
   "cell_type": "markdown",
   "metadata": {
    "collapsed": false,
    "pycharm": {
     "name": "#%% md\n"
    }
   },
   "source": [
    "## e) Analysis of results and discussions\n",
    "Report on your experiments and comment your\n",
    "classification performances. Find 5 to 10 words which are not in your training set and on\n",
    "which the system thinks it is clearly positive or negative. Find some words on which the\n",
    "system hesitates, i.e. with output probabilities in range [0.4-0.6]). Are these words and\n",
    "outputs making sense to you ?"
   ]
  },
  {
   "cell_type": "code",
   "execution_count": 207,
   "metadata": {
    "collapsed": false,
    "pycharm": {
     "name": "#%%\n"
    }
   },
   "outputs": [],
   "source": [
    "def plot_metrics(\n",
    "        model: Sequential,\n",
    "        logs: callbacks.History,\n",
    "        ax: plt.Axes = None,\n",
    "        color: str = None,\n",
    "        display_train_accuracy: bool = True,\n",
    "        display_train_loss: bool = False,\n",
    "        display_val_accuracy: bool = True,\n",
    "        display_val_loss: bool = False\n",
    ") -> None:\n",
    "    single_plot: bool = ax is None\n",
    "    fig = None\n",
    "\n",
    "    if single_plot:\n",
    "        fig = plt.figure(figsize=(12, 7))\n",
    "        ax = fig.add_subplot(1,1,1)\n",
    "\n",
    "    if display_train_accuracy:\n",
    "        ax.plot(logs.history['accuracy'], linestyle=\"--\", label=f\"Acc_Train_{model.name}\", color=color)\n",
    "\n",
    "    if display_train_loss:\n",
    "        ax.plot(logs.history['loss'], linestyle=\"--\", label=f\"Loss_Train_{model.name}\", color=color)\n",
    "\n",
    "    if display_val_accuracy:\n",
    "        ax.plot(logs.history['val_accuracy'], linestyle=\"-\", label=f\"Acc_Val_{model.name}\", color=color)\n",
    "\n",
    "    if display_val_loss:\n",
    "        ax.plot(logs.history['val_loss'], linestyle=\"-\", label=f\"Loss_Val_{model.name}\", color=color)\n",
    "\n",
    "    if not display_val_loss and not display_train_loss:\n",
    "        ax.set_ylim(0, 1)\n",
    "\n",
    "    if single_plot:\n",
    "        fig.suptitle(\"Metrics Plot\")\n",
    "        ax.set_xlabel(\"# Epochs\")\n",
    "        ax.set_ylabel(\"Accuracy / Loss\")\n",
    "        plt.legend()\n",
    "        plt.show()"
   ]
  },
  {
   "cell_type": "code",
   "execution_count": 218,
   "metadata": {
    "collapsed": false,
    "pycharm": {
     "name": "#%%\n"
    }
   },
   "outputs": [
    {
     "data": {
      "image/png": "[encoded data removed]",
      "text/plain": [
       "<Figure size 864x504 with 1 Axes>"
      ]
     },
     "metadata": {
      "needs_background": "light"
     },
     "output_type": "display_data"
    },
    {
     "name": "stdout",
     "output_type": "stream",
     "text": [
      "Training accuracy: 0.9707\n",
      "Test accuracy: 0.8855\n"
     ]
    }
   ],
   "source": [
    "plot_metrics(model, logs=log)\n",
    "\n",
    "print(\"Training accuracy:\", np.round(log.history['accuracy'][len(log.history['accuracy']) - 1], 4))\n",
    "print(\"Test accuracy:\", np.round(log.history['val_accuracy'][len(log.history['val_accuracy']) - 1], 4))"
   ]
  },
  {
   "cell_type": "markdown",
   "metadata": {
    "collapsed": false,
    "pycharm": {
     "name": "#%% md\n"
    }
   },
   "source": [
    "### Performance report\n",
    "As we can see the model achieved the expected results (85%) of the exercise with an accuarcy on the test set of 88,6%.\n",
    "With such a fast training and such a simple MLP we think this is a rather good result for an NLP task. We will also try increase the accuracy even further but we also experienced the tendency to overfit even with such a small number of epochs."
   ]
  },
  {
   "cell_type": "code",
   "execution_count": 265,
   "metadata": {
    "collapsed": false,
    "pycharm": {
     "name": "#%%\n"
    }
   },
   "outputs": [],
   "source": [
    "def polarity_to_label(polarity: int):\n",
    "    return \"Positive\" if polarity == 0 else \"Negative\""
   ]
  },
  {
   "cell_type": "code",
   "execution_count": 282,
   "metadata": {
    "collapsed": false,
    "pycharm": {
     "name": "#%%\n"
    }
   },
   "outputs": [],
   "source": [
    "def test_word(word: str, polarity: int, verbose: bool = True):\n",
    "    assert word in glove_dict, \"Word is not in used glove dict\"\n",
    "    embeddings = tf.convert_to_tensor([tf.convert_to_tensor(glove_dict[word])])\n",
    "    pred = model.predict(embeddings)\n",
    "    pred_polarity = tf.argmax(pred, axis=1)[0]\n",
    "    correct = pred_polarity == polarity\n",
    "\n",
    "    if verbose:\n",
    "        display(pd.DataFrame([[word, tf.get_static_value(correct), polarity_to_label(tf.get_static_value(pred_polarity)), polarity_to_label(polarity), pred]], columns=[\"Word\", \"Correct\", \"Predicted\", \"Ground Truth\", \"Prediction\"]))\n",
    "\n",
    "    return pred_polarity == polarity"
   ]
  },
  {
   "cell_type": "code",
   "execution_count": 288,
   "metadata": {
    "collapsed": false,
    "pycharm": {
     "name": "#%%\n"
    }
   },
   "outputs": [
    {
     "data": {
      "text/html": [
       "<div>\n",
       "<style scoped>\n",
       "    .dataframe tbody tr th:only-of-type {\n",
       "        vertical-align: middle;\n",
       "    }\n",
       "\n",
       "    .dataframe tbody tr th {\n",
       "        vertical-align: top;\n",
       "    }\n",
       "\n",
       "    .dataframe thead th {\n",
       "        text-align: right;\n",
       "    }\n",
       "</style>\n",
       "<table border=\"1\" class=\"dataframe\">\n",
       "  <thead>\n",
       "    <tr style=\"text-align: right;\">\n",
       "      <th></th>\n",
       "      <th>Word</th>\n",
       "      <th>Correct</th>\n",
       "      <th>Predicted</th>\n",
       "      <th>Ground Truth</th>\n",
       "      <th>Prediction</th>\n",
       "    </tr>\n",
       "  </thead>\n",
       "  <tbody>\n",
       "    <tr>\n",
       "      <th>0</th>\n",
       "      <td>pioneering</td>\n",
       "      <td>True</td>\n",
       "      <td>Positive</td>\n",
       "      <td>Positive</td>\n",
       "      <td>[[0.9999944, 5.6017584e-06]]</td>\n",
       "    </tr>\n",
       "  </tbody>\n",
       "</table>\n",
       "</div>"
      ],
      "text/plain": [
       "         Word  Correct Predicted Ground Truth                    Prediction\n",
       "0  pioneering     True  Positive     Positive  [[0.9999944, 5.6017584e-06]]"
      ]
     },
     "metadata": {},
     "output_type": "display_data"
    },
    {
     "name": "stdout",
     "output_type": "stream",
     "text": [
      "\n"
     ]
    },
    {
     "data": {
      "text/html": [
       "<div>\n",
       "<style scoped>\n",
       "    .dataframe tbody tr th:only-of-type {\n",
       "        vertical-align: middle;\n",
       "    }\n",
       "\n",
       "    .dataframe tbody tr th {\n",
       "        vertical-align: top;\n",
       "    }\n",
       "\n",
       "    .dataframe thead th {\n",
       "        text-align: right;\n",
       "    }\n",
       "</style>\n",
       "<table border=\"1\" class=\"dataframe\">\n",
       "  <thead>\n",
       "    <tr style=\"text-align: right;\">\n",
       "      <th></th>\n",
       "      <th>Word</th>\n",
       "      <th>Correct</th>\n",
       "      <th>Predicted</th>\n",
       "      <th>Ground Truth</th>\n",
       "      <th>Prediction</th>\n",
       "    </tr>\n",
       "  </thead>\n",
       "  <tbody>\n",
       "    <tr>\n",
       "      <th>0</th>\n",
       "      <td>easy-going</td>\n",
       "      <td>True</td>\n",
       "      <td>Positive</td>\n",
       "      <td>Positive</td>\n",
       "      <td>[[0.991557, 0.008442951]]</td>\n",
       "    </tr>\n",
       "  </tbody>\n",
       "</table>\n",
       "</div>"
      ],
      "text/plain": [
       "         Word  Correct Predicted Ground Truth                 Prediction\n",
       "0  easy-going     True  Positive     Positive  [[0.991557, 0.008442951]]"
      ]
     },
     "metadata": {},
     "output_type": "display_data"
    },
    {
     "name": "stdout",
     "output_type": "stream",
     "text": [
      "\n"
     ]
    },
    {
     "data": {
      "text/html": [
       "<div>\n",
       "<style scoped>\n",
       "    .dataframe tbody tr th:only-of-type {\n",
       "        vertical-align: middle;\n",
       "    }\n",
       "\n",
       "    .dataframe tbody tr th {\n",
       "        vertical-align: top;\n",
       "    }\n",
       "\n",
       "    .dataframe thead th {\n",
       "        text-align: right;\n",
       "    }\n",
       "</style>\n",
       "<table border=\"1\" class=\"dataframe\">\n",
       "  <thead>\n",
       "    <tr style=\"text-align: right;\">\n",
       "      <th></th>\n",
       "      <th>Word</th>\n",
       "      <th>Correct</th>\n",
       "      <th>Predicted</th>\n",
       "      <th>Ground Truth</th>\n",
       "      <th>Prediction</th>\n",
       "    </tr>\n",
       "  </thead>\n",
       "  <tbody>\n",
       "    <tr>\n",
       "      <th>0</th>\n",
       "      <td>cuddly</td>\n",
       "      <td>True</td>\n",
       "      <td>Positive</td>\n",
       "      <td>Positive</td>\n",
       "      <td>[[0.8580523, 0.14194766]]</td>\n",
       "    </tr>\n",
       "  </tbody>\n",
       "</table>\n",
       "</div>"
      ],
      "text/plain": [
       "     Word  Correct Predicted Ground Truth                 Prediction\n",
       "0  cuddly     True  Positive     Positive  [[0.8580523, 0.14194766]]"
      ]
     },
     "metadata": {},
     "output_type": "display_data"
    },
    {
     "name": "stdout",
     "output_type": "stream",
     "text": [
      "\n"
     ]
    },
    {
     "data": {
      "text/html": [
       "<div>\n",
       "<style scoped>\n",
       "    .dataframe tbody tr th:only-of-type {\n",
       "        vertical-align: middle;\n",
       "    }\n",
       "\n",
       "    .dataframe tbody tr th {\n",
       "        vertical-align: top;\n",
       "    }\n",
       "\n",
       "    .dataframe thead th {\n",
       "        text-align: right;\n",
       "    }\n",
       "</style>\n",
       "<table border=\"1\" class=\"dataframe\">\n",
       "  <thead>\n",
       "    <tr style=\"text-align: right;\">\n",
       "      <th></th>\n",
       "      <th>Word</th>\n",
       "      <th>Correct</th>\n",
       "      <th>Predicted</th>\n",
       "      <th>Ground Truth</th>\n",
       "      <th>Prediction</th>\n",
       "    </tr>\n",
       "  </thead>\n",
       "  <tbody>\n",
       "    <tr>\n",
       "      <th>0</th>\n",
       "      <td>shorthanded</td>\n",
       "      <td>True</td>\n",
       "      <td>Negative</td>\n",
       "      <td>Negative</td>\n",
       "      <td>[[0.05888296, 0.94111705]]</td>\n",
       "    </tr>\n",
       "  </tbody>\n",
       "</table>\n",
       "</div>"
      ],
      "text/plain": [
       "          Word  Correct Predicted Ground Truth                  Prediction\n",
       "0  shorthanded     True  Negative     Negative  [[0.05888296, 0.94111705]]"
      ]
     },
     "metadata": {},
     "output_type": "display_data"
    },
    {
     "name": "stdout",
     "output_type": "stream",
     "text": [
      "\n"
     ]
    },
    {
     "data": {
      "text/html": [
       "<div>\n",
       "<style scoped>\n",
       "    .dataframe tbody tr th:only-of-type {\n",
       "        vertical-align: middle;\n",
       "    }\n",
       "\n",
       "    .dataframe tbody tr th {\n",
       "        vertical-align: top;\n",
       "    }\n",
       "\n",
       "    .dataframe thead th {\n",
       "        text-align: right;\n",
       "    }\n",
       "</style>\n",
       "<table border=\"1\" class=\"dataframe\">\n",
       "  <thead>\n",
       "    <tr style=\"text-align: right;\">\n",
       "      <th></th>\n",
       "      <th>Word</th>\n",
       "      <th>Correct</th>\n",
       "      <th>Predicted</th>\n",
       "      <th>Ground Truth</th>\n",
       "      <th>Prediction</th>\n",
       "    </tr>\n",
       "  </thead>\n",
       "  <tbody>\n",
       "    <tr>\n",
       "      <th>0</th>\n",
       "      <td>extratropical</td>\n",
       "      <td>False</td>\n",
       "      <td>Negative</td>\n",
       "      <td>Positive</td>\n",
       "      <td>[[2.397083e-06, 0.9999976]]</td>\n",
       "    </tr>\n",
       "  </tbody>\n",
       "</table>\n",
       "</div>"
      ],
      "text/plain": [
       "            Word  Correct Predicted Ground Truth                   Prediction\n",
       "0  extratropical    False  Negative     Positive  [[2.397083e-06, 0.9999976]]"
      ]
     },
     "metadata": {},
     "output_type": "display_data"
    },
    {
     "name": "stdout",
     "output_type": "stream",
     "text": [
      "\n"
     ]
    },
    {
     "data": {
      "text/html": [
       "<div>\n",
       "<style scoped>\n",
       "    .dataframe tbody tr th:only-of-type {\n",
       "        vertical-align: middle;\n",
       "    }\n",
       "\n",
       "    .dataframe tbody tr th {\n",
       "        vertical-align: top;\n",
       "    }\n",
       "\n",
       "    .dataframe thead th {\n",
       "        text-align: right;\n",
       "    }\n",
       "</style>\n",
       "<table border=\"1\" class=\"dataframe\">\n",
       "  <thead>\n",
       "    <tr style=\"text-align: right;\">\n",
       "      <th></th>\n",
       "      <th>Word</th>\n",
       "      <th>Correct</th>\n",
       "      <th>Predicted</th>\n",
       "      <th>Ground Truth</th>\n",
       "      <th>Prediction</th>\n",
       "    </tr>\n",
       "  </thead>\n",
       "  <tbody>\n",
       "    <tr>\n",
       "      <th>0</th>\n",
       "      <td>the</td>\n",
       "      <td>True</td>\n",
       "      <td>Positive</td>\n",
       "      <td>Positive</td>\n",
       "      <td>[[0.98785365, 0.012146415]]</td>\n",
       "    </tr>\n",
       "  </tbody>\n",
       "</table>\n",
       "</div>"
      ],
      "text/plain": [
       "  Word  Correct Predicted Ground Truth                   Prediction\n",
       "0  the     True  Positive     Positive  [[0.98785365, 0.012146415]]"
      ]
     },
     "metadata": {},
     "output_type": "display_data"
    },
    {
     "name": "stdout",
     "output_type": "stream",
     "text": [
      "\n"
     ]
    },
    {
     "data": {
      "text/html": [
       "<div>\n",
       "<style scoped>\n",
       "    .dataframe tbody tr th:only-of-type {\n",
       "        vertical-align: middle;\n",
       "    }\n",
       "\n",
       "    .dataframe tbody tr th {\n",
       "        vertical-align: top;\n",
       "    }\n",
       "\n",
       "    .dataframe thead th {\n",
       "        text-align: right;\n",
       "    }\n",
       "</style>\n",
       "<table border=\"1\" class=\"dataframe\">\n",
       "  <thead>\n",
       "    <tr style=\"text-align: right;\">\n",
       "      <th></th>\n",
       "      <th>Word</th>\n",
       "      <th>Correct</th>\n",
       "      <th>Predicted</th>\n",
       "      <th>Ground Truth</th>\n",
       "      <th>Prediction</th>\n",
       "    </tr>\n",
       "  </thead>\n",
       "  <tbody>\n",
       "    <tr>\n",
       "      <th>0</th>\n",
       "      <td>doctored</td>\n",
       "      <td>True</td>\n",
       "      <td>Negative</td>\n",
       "      <td>Negative</td>\n",
       "      <td>[[0.06577277, 0.93422717]]</td>\n",
       "    </tr>\n",
       "  </tbody>\n",
       "</table>\n",
       "</div>"
      ],
      "text/plain": [
       "       Word  Correct Predicted Ground Truth                  Prediction\n",
       "0  doctored     True  Negative     Negative  [[0.06577277, 0.93422717]]"
      ]
     },
     "metadata": {},
     "output_type": "display_data"
    },
    {
     "name": "stdout",
     "output_type": "stream",
     "text": [
      "\n"
     ]
    },
    {
     "data": {
      "text/html": [
       "<div>\n",
       "<style scoped>\n",
       "    .dataframe tbody tr th:only-of-type {\n",
       "        vertical-align: middle;\n",
       "    }\n",
       "\n",
       "    .dataframe tbody tr th {\n",
       "        vertical-align: top;\n",
       "    }\n",
       "\n",
       "    .dataframe thead th {\n",
       "        text-align: right;\n",
       "    }\n",
       "</style>\n",
       "<table border=\"1\" class=\"dataframe\">\n",
       "  <thead>\n",
       "    <tr style=\"text-align: right;\">\n",
       "      <th></th>\n",
       "      <th>Word</th>\n",
       "      <th>Correct</th>\n",
       "      <th>Predicted</th>\n",
       "      <th>Ground Truth</th>\n",
       "      <th>Prediction</th>\n",
       "    </tr>\n",
       "  </thead>\n",
       "  <tbody>\n",
       "    <tr>\n",
       "      <th>0</th>\n",
       "      <td>subsidised</td>\n",
       "      <td>True</td>\n",
       "      <td>Positive</td>\n",
       "      <td>Positive</td>\n",
       "      <td>[[0.84743017, 0.15256985]]</td>\n",
       "    </tr>\n",
       "  </tbody>\n",
       "</table>\n",
       "</div>"
      ],
      "text/plain": [
       "         Word  Correct Predicted Ground Truth                  Prediction\n",
       "0  subsidised     True  Positive     Positive  [[0.84743017, 0.15256985]]"
      ]
     },
     "metadata": {},
     "output_type": "display_data"
    },
    {
     "name": "stdout",
     "output_type": "stream",
     "text": [
      "\n"
     ]
    },
    {
     "data": {
      "text/html": [
       "<div>\n",
       "<style scoped>\n",
       "    .dataframe tbody tr th:only-of-type {\n",
       "        vertical-align: middle;\n",
       "    }\n",
       "\n",
       "    .dataframe tbody tr th {\n",
       "        vertical-align: top;\n",
       "    }\n",
       "\n",
       "    .dataframe thead th {\n",
       "        text-align: right;\n",
       "    }\n",
       "</style>\n",
       "<table border=\"1\" class=\"dataframe\">\n",
       "  <thead>\n",
       "    <tr style=\"text-align: right;\">\n",
       "      <th></th>\n",
       "      <th>Word</th>\n",
       "      <th>Correct</th>\n",
       "      <th>Predicted</th>\n",
       "      <th>Ground Truth</th>\n",
       "      <th>Prediction</th>\n",
       "    </tr>\n",
       "  </thead>\n",
       "  <tbody>\n",
       "    <tr>\n",
       "      <th>0</th>\n",
       "      <td>globular</td>\n",
       "      <td>False</td>\n",
       "      <td>Negative</td>\n",
       "      <td>Positive</td>\n",
       "      <td>[[0.19091307, 0.809087]]</td>\n",
       "    </tr>\n",
       "  </tbody>\n",
       "</table>\n",
       "</div>"
      ],
      "text/plain": [
       "       Word  Correct Predicted Ground Truth                Prediction\n",
       "0  globular    False  Negative     Positive  [[0.19091307, 0.809087]]"
      ]
     },
     "metadata": {},
     "output_type": "display_data"
    },
    {
     "name": "stdout",
     "output_type": "stream",
     "text": [
      "\n"
     ]
    }
   ],
   "source": [
    "word_list = [('pioneering', 0), ('easy-going', 0), ('cuddly', 0), ('shorthanded', 1), ('extratropical', 0), ('the', 0), ('doctored', 1), ('subsidised', 0), ('globular', 0)]\n",
    "\n",
    "for word in word_list:\n",
    "    test_word(word[0], word[1])\n",
    "    print()"
   ]
  },
  {
   "cell_type": "markdown",
   "metadata": {
    "collapsed": false,
    "pycharm": {
     "name": "#%% md\n"
    }
   },
   "source": [
    "### Result interpretation\n",
    "As the results show the system is always quite confident about what to predict. This is possibly highly due to the use of the softmax function.\n",
    "Even if humans can not assign a clear label to a word if it's positive or negative, the model predicts quite confident a polarity.\n",
    "\n",
    "Examples:\n",
    "globular -> no polarity -> system predicts with 80% to be negative\n",
    "the -> no polarity -> system predicts with 98% to be positive\n",
    "extratropical -> no polarity -> stystem predicts with 99% to be negative\n",
    "\n",
    "\n",
    "In our test to all other words where humans (we) were able to assign a polarity it could clearly find the correct polarity even if all the words were not included in the training set which is quite impressive."
   ]
  },
  {
   "cell_type": "markdown",
   "metadata": {
    "collapsed": false,
    "pycharm": {
     "name": "#%% md\n"
    }
   },
   "source": [
    "### f) Optional – Extension to sentences.\n",
    "Could you use the above system to make a polarity\n",
    "detection for the comments given by clients on products, e.g. on www.digitech.ch ? What\n",
    "would be the limitations of such system and how could we improve it ? What is happening\n",
    "when a word is not in the dictionary of the embedding ?"
   ]
  },
  {
   "cell_type": "markdown",
   "metadata": {
    "collapsed": false,
    "pycharm": {
     "name": "#%% md\n"
    }
   },
   "source": [
    "#### Answer\n",
    "As system as we used above which is able to predict the sentiment of words could be used in that way for sentences, that we predict the polarity of each word in the comment and conduct eventually a majority vote over all polarities predicted.\n",
    "\n",
    "Limitations:\n",
    "If the system predicts a clear polarity to each word even if they haven't the result of the vote could be compromised.\n",
    "A possible solution is to preprocess the comments in order to remove stopwords.\n",
    "With a POS tagging we could also focus on adjectives rather than nouns etc.\n",
    "\n",
    "A second limitation could be that the words doesn't exists in our word embeddings model. We may can use an api to find synonyms of the words which exists. Otherwise this may are words specific to the product, which probalby eitherway haven't a polarity. But this is only an assumption. But with this we could filter out this words. Or extending the model with the comments we already have."
   ]
  }
 ],
 "metadata": {
  "interpreter": {
   "hash": "8d5664aaaee58d137f78751e7bba5e15c96002b47b15be80dc4ae9c2e12e6171"
  },
  "kernelspec": {
   "display_name": "Python 3.10.1 64-bit",
   "language": "python",
   "name": "python3"
  },
  "language_info": {
   "codemirror_mode": {
    "name": "ipython",
    "version": 3
   },
   "file_extension": ".py",
   "mimetype": "text/x-python",
   "name": "python",
   "nbconvert_exporter": "python",
   "pygments_lexer": "ipython3",
   "version": "3.10.1"
  }
 },
 "nbformat": 4,
 "nbformat_minor": 0
}
