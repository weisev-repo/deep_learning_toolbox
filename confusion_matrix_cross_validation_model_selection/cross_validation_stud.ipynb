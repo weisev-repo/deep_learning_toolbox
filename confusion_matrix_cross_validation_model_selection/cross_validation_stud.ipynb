{
 "cells": [
  {
   "cell_type": "code",
   "execution_count": 39,
   "id": "a31c6137-13df-484e-8b27-48ecdb388f4e",
   "metadata": {},
   "outputs": [],
   "source": [
    "import torch\n",
    "from torch.utils.data import DataLoader, ConcatDataset\n",
    "from torchvision import datasets\n",
    "from torchvision.transforms import ToTensor\n",
    "from torchinfo import summary\n",
    "import numpy as np\n",
    "import matplotlib.pyplot as plt\n",
    "from sklearn.model_selection import KFold"
   ]
  },
  {
   "cell_type": "markdown",
   "id": "898da3f7-5704-4292-b656-62cb7e3bffe1",
   "metadata": {},
   "source": [
    "### Loading the Data"
   ]
  },
  {
   "cell_type": "code",
   "execution_count": 42,
   "id": "565fe12c-8ad4-43bb-b6a5-25aeb91ba3c7",
   "metadata": {},
   "outputs": [],
   "source": [
    "training_data = datasets.mnist.FashionMNIST(root=\"data\", train=True, download=True, transform=ToTensor())\n",
    "test_data = datasets.mnist.FashionMNIST(root=\"data\", train=False, download=True, transform=ToTensor())"
   ]
  },
  {
   "cell_type": "markdown",
   "id": "cab3eb4f-cdfa-4b85-a723-4762e70aa689",
   "metadata": {},
   "source": [
    "### Model"
   ]
  },
  {
   "cell_type": "code",
   "execution_count": 29,
   "id": "553da531-2d78-40f6-9cd4-9d5320588bfd",
   "metadata": {},
   "outputs": [],
   "source": [
    "# your favourite MLP model\n",
    "\n",
    "def create_model(show_summary = False):\n",
    "\n",
    "    seq = [torch.nn.Flatten()]\n",
    "    seq.append(torch.nn.Dropout(p=0.1))\n",
    "    seq.append(torch.nn.Linear(in_features=28*28, out_features=200))\n",
    "    seq.append(torch.nn.ReLU())\n",
    "    seq.append(torch.nn.Dropout(p=0.2))\n",
    "    seq.append(torch.nn.Linear(in_features=200, out_features=10))\n",
    "\n",
    "    _model = torch.nn.Sequential(*seq)\n",
    "\n",
    "    if show_summary:\n",
    "        print(summary(_model, (1,28,28)))\n",
    "\n",
    "    return _model"
   ]
  },
  {
   "cell_type": "code",
   "execution_count": 30,
   "outputs": [
    {
     "name": "stdout",
     "output_type": "stream",
     "text": [
      "==========================================================================================\n",
      "Layer (type:depth-idx)                   Output Shape              Param #\n",
      "==========================================================================================\n",
      "Sequential                               --                        --\n",
      "├─Flatten: 1-1                           [1, 784]                  --\n",
      "├─Dropout: 1-2                           [1, 784]                  --\n",
      "├─Linear: 1-3                            [1, 200]                  157,000\n",
      "├─ReLU: 1-4                              [1, 200]                  --\n",
      "├─Dropout: 1-5                           [1, 200]                  --\n",
      "├─Linear: 1-6                            [1, 10]                   2,010\n",
      "==========================================================================================\n",
      "Total params: 159,010\n",
      "Trainable params: 159,010\n",
      "Non-trainable params: 0\n",
      "Total mult-adds (M): 0.16\n",
      "==========================================================================================\n",
      "Input size (MB): 0.00\n",
      "Forward/backward pass size (MB): 0.00\n",
      "Params size (MB): 0.64\n",
      "Estimated Total Size (MB): 0.64\n",
      "==========================================================================================\n"
     ]
    }
   ],
   "source": [
    "check_model = create_model(True)"
   ],
   "metadata": {
    "collapsed": false,
    "pycharm": {
     "name": "#%%\n"
    }
   }
  },
  {
   "cell_type": "markdown",
   "id": "f8572d96-38b4-4595-86ae-11c85f5f2083",
   "metadata": {},
   "source": [
    "### Train-Eval over a given number of epochs for a given train/validation loader (4+1 fold)"
   ]
  },
  {
   "cell_type": "code",
   "execution_count": 52,
   "outputs": [],
   "source": [
    "def test_eval(model, test_loader):\n",
    "\n",
    "    cost_ce = torch.nn.CrossEntropyLoss()\n",
    "\n",
    "    test_set_size = len(test_loader.dataset)\n",
    "    test_num_batches = len(test_loader)\n",
    "\n",
    "    print(\"test_set_size:\", test_set_size)\n",
    "    print(\"test_num_batches:\", test_num_batches)\n",
    "\n",
    "    cost_test, acc_test = 0, 0\n",
    "    with torch.no_grad():\n",
    "        for valid_batch_idx, (X, Y) in enumerate(test_loader):\n",
    "            pred = model(X)\n",
    "            cost_test += cost_ce(pred, Y).item()\n",
    "            acc_test += (Y == pred.argmax(dim=1)).type(torch.float).sum().item()\n",
    "\n",
    "    print(\"Test-Acc:\", acc_test)\n",
    "\n",
    "    cost_test = cost_test / test_num_batches\n",
    "    acc_test = acc_test / test_set_size\n",
    "\n",
    "    print(\"acc_test:\", acc_test)\n",
    "\n",
    "    return cost_test, acc_test"
   ],
   "metadata": {
    "collapsed": false,
    "pycharm": {
     "name": "#%%\n"
    }
   }
  },
  {
   "cell_type": "code",
   "execution_count": 37,
   "id": "935c445a-2859-41b8-a5df-ebd6b78d8496",
   "metadata": {},
   "outputs": [],
   "source": [
    "def train_eval(nepochs, model, lr, training_loader, validation_loader, cost_fn):\n",
    "\n",
    "    cost_hist_train = []\n",
    "    acc_hist_train = []\n",
    "\n",
    "    cost_hist_valid = []\n",
    "    acc_hist_valid = []\n",
    "\n",
    "    # Define cost function and optimizer\n",
    "    cost_ce = cost_fn\n",
    "    optimizer = torch.optim.SGD(model.parameters(), lr=lr)\n",
    "\n",
    "    print(f'Start with -> lr: {lr}, num_epoch: {nepochs}')\n",
    "\n",
    "    for epoch in range(nepochs):\n",
    "\n",
    "        # get for both train and test set the length and batch size\n",
    "        train_set_size = len(training_loader.dataset)\n",
    "        train_num_batches = len(training_loader)\n",
    "\n",
    "        cost_train, acc_train = 0, 0\n",
    "\n",
    "        for train_batch_idx, (X, Y) in enumerate(training_loader):\n",
    "\n",
    "            # make prediction and calculate loss\n",
    "            y_pred = model(X)\n",
    "            loss = cost_ce(y_pred, Y)\n",
    "\n",
    "            cost_train += loss.item()\n",
    "            acc_train += (Y == y_pred.argmax(dim=1)).type(torch.float).sum().item()\n",
    "\n",
    "            # reset gradients, so that they aren't cumulated\n",
    "            optimizer.zero_grad()\n",
    "\n",
    "            # calculate gradients\n",
    "            loss.backward()\n",
    "\n",
    "            # apply gradients and update parameters\n",
    "            optimizer.step()\n",
    "\n",
    "        # calculate average training cost and accuracy per epoch\n",
    "        cost_train = cost_train / train_num_batches\n",
    "        acc_train = acc_train / train_set_size\n",
    "\n",
    "        # evaluate validation cost and accuracy\n",
    "        cost_valid, acc_valid = test_eval(model, validation_loader)\n",
    "\n",
    "        # store result\n",
    "        cost_hist_train.append(cost_train)\n",
    "        cost_hist_valid.append(cost_valid)\n",
    "        acc_hist_train.append(acc_train)\n",
    "        acc_hist_valid.append(acc_valid)\n",
    "\n",
    "        print(\"Epoch %i: cost_train: %f, acc_train: %f, cost_valid: %f, acc_valid: %f\"%(epoch, cost_train, acc_train, cost_valid, acc_valid))\n",
    "\n",
    "\n",
    "    return cost_hist_train, cost_hist_valid, acc_hist_train, acc_hist_valid"
   ]
  },
  {
   "cell_type": "markdown",
   "id": "b891cbe6-9b9d-486c-85fb-9462106e9511",
   "metadata": {},
   "source": [
    "### Split Training Data into folds\n",
    "\n",
    "Prepare specific loaders for the 4 training folds and the 1 validation fold\n",
    "\n",
    "Suggestions:\n",
    "* Use sklearns KFold functionality for spliiting into folds.\n",
    "* Use pytorchs subsamplers (torch.utils.data.SubsetRandomSampler) to construct training and validation loaders"
   ]
  },
  {
   "cell_type": "code",
   "execution_count": null,
   "outputs": [],
   "source": [
    "# Configuration options, todo hyperparameter tuning\n",
    "nfolds = 5\n",
    "nepochs = 20\n",
    "lr = 0.3\n",
    "batchsize = 64\n",
    "\n",
    "cost_fn = torch.nn.CrossEntropyLoss()\n",
    "results = {}"
   ],
   "metadata": {
    "collapsed": false,
    "pycharm": {
     "name": "#%%\n"
    }
   }
  },
  {
   "cell_type": "code",
   "execution_count": 53,
   "id": "a719296d-d9ce-4a77-8591-ac7dbf3b7416",
   "metadata": {},
   "outputs": [
    {
     "name": "stdout",
     "output_type": "stream",
     "text": [
      "FOLD 0\n",
      "--------------------------------\n",
      "Start with -> lr: 0.3, num_epoch: 20\n",
      "test_set_size: 60000\n",
      "test_num_batches: 188\n",
      "Test-Acc: 9104.0\n",
      "acc_test: 0.15173333333333333\n",
      "Epoch 0: cost_train: 0.632538, acc_train: 0.613300, cost_valid: 0.723543, acc_valid: 0.151733\n",
      "test_set_size: 60000\n",
      "test_num_batches: 188\n",
      "Test-Acc: 10060.0\n",
      "acc_test: 0.16766666666666666\n",
      "Epoch 1: cost_train: 0.462258, acc_train: 0.663367, cost_valid: 0.456791, acc_valid: 0.167667\n",
      "test_set_size: 60000\n",
      "test_num_batches: 188\n",
      "Test-Acc: 10019.0\n",
      "acc_test: 0.16698333333333334\n",
      "Epoch 2: cost_train: 0.422448, acc_train: 0.674667, cost_valid: 0.449731, acc_valid: 0.166983\n",
      "test_set_size: 60000\n",
      "test_num_batches: 188\n",
      "Test-Acc: 10181.0\n",
      "acc_test: 0.16968333333333332\n",
      "Epoch 3: cost_train: 0.399064, acc_train: 0.681967, cost_valid: 0.412133, acc_valid: 0.169683\n",
      "test_set_size: 60000\n",
      "test_num_batches: 188\n",
      "Test-Acc: 10274.0\n",
      "acc_test: 0.17123333333333332\n",
      "Epoch 4: cost_train: 0.382837, acc_train: 0.686467, cost_valid: 0.395674, acc_valid: 0.171233\n",
      "test_set_size: 60000\n",
      "test_num_batches: 188\n",
      "Test-Acc: 10260.0\n",
      "acc_test: 0.171\n",
      "Epoch 5: cost_train: 0.368154, acc_train: 0.690383, cost_valid: 0.393792, acc_valid: 0.171000\n",
      "test_set_size: 60000\n",
      "test_num_batches: 188\n",
      "Test-Acc: 10294.0\n",
      "acc_test: 0.17156666666666667\n",
      "Epoch 6: cost_train: 0.359856, acc_train: 0.693117, cost_valid: 0.390883, acc_valid: 0.171567\n",
      "test_set_size: 60000\n",
      "test_num_batches: 188\n",
      "Test-Acc: 10373.0\n",
      "acc_test: 0.17288333333333333\n",
      "Epoch 7: cost_train: 0.350923, acc_train: 0.694317, cost_valid: 0.384151, acc_valid: 0.172883\n",
      "test_set_size: 60000\n",
      "test_num_batches: 188\n",
      "Test-Acc: 10323.0\n",
      "acc_test: 0.17205\n",
      "Epoch 8: cost_train: 0.343565, acc_train: 0.697433, cost_valid: 0.388068, acc_valid: 0.172050\n",
      "test_set_size: 60000\n",
      "test_num_batches: 188\n",
      "Test-Acc: 10427.0\n",
      "acc_test: 0.17378333333333335\n",
      "Epoch 9: cost_train: 0.335047, acc_train: 0.698117, cost_valid: 0.373203, acc_valid: 0.173783\n",
      "test_set_size: 60000\n",
      "test_num_batches: 188\n",
      "Test-Acc: 10322.0\n",
      "acc_test: 0.17203333333333334\n",
      "Epoch 10: cost_train: 0.329913, acc_train: 0.700650, cost_valid: 0.374347, acc_valid: 0.172033\n",
      "test_set_size: 60000\n",
      "test_num_batches: 188\n",
      "Test-Acc: 10348.0\n",
      "acc_test: 0.17246666666666666\n",
      "Epoch 11: cost_train: 0.324686, acc_train: 0.702633, cost_valid: 0.393220, acc_valid: 0.172467\n",
      "test_set_size: 60000\n",
      "test_num_batches: 188\n",
      "Test-Acc: 10454.0\n",
      "acc_test: 0.17423333333333332\n",
      "Epoch 12: cost_train: 0.316676, acc_train: 0.705200, cost_valid: 0.368998, acc_valid: 0.174233\n",
      "test_set_size: 60000\n",
      "test_num_batches: 188\n",
      "Test-Acc: 10460.0\n",
      "acc_test: 0.17433333333333334\n",
      "Epoch 13: cost_train: 0.312698, acc_train: 0.706467, cost_valid: 0.355882, acc_valid: 0.174333\n",
      "test_set_size: 60000\n",
      "test_num_batches: 188\n",
      "Test-Acc: 10431.0\n",
      "acc_test: 0.17385\n",
      "Epoch 14: cost_train: 0.311143, acc_train: 0.706267, cost_valid: 0.366342, acc_valid: 0.173850\n",
      "test_set_size: 60000\n",
      "test_num_batches: 188\n",
      "Test-Acc: 10476.0\n",
      "acc_test: 0.1746\n",
      "Epoch 15: cost_train: 0.305152, acc_train: 0.707733, cost_valid: 0.350493, acc_valid: 0.174600\n",
      "test_set_size: 60000\n",
      "test_num_batches: 188\n",
      "Test-Acc: 10264.0\n",
      "acc_test: 0.17106666666666667\n",
      "Epoch 16: cost_train: 0.301558, acc_train: 0.708317, cost_valid: 0.393930, acc_valid: 0.171067\n",
      "test_set_size: 60000\n",
      "test_num_batches: 188\n",
      "Test-Acc: 10364.0\n",
      "acc_test: 0.17273333333333332\n",
      "Epoch 17: cost_train: 0.299289, acc_train: 0.708283, cost_valid: 0.375845, acc_valid: 0.172733\n",
      "test_set_size: 60000\n",
      "test_num_batches: 188\n",
      "Test-Acc: 10451.0\n",
      "acc_test: 0.17418333333333333\n",
      "Epoch 18: cost_train: 0.293718, acc_train: 0.710550, cost_valid: 0.362371, acc_valid: 0.174183\n",
      "test_set_size: 60000\n",
      "test_num_batches: 188\n",
      "Test-Acc: 10427.0\n",
      "acc_test: 0.17378333333333335\n",
      "Epoch 19: cost_train: 0.291318, acc_train: 0.711850, cost_valid: 0.370380, acc_valid: 0.173783\n",
      "FOLD 1\n",
      "--------------------------------\n",
      "Start with -> lr: 0.3, num_epoch: 20\n",
      "test_set_size: 60000\n",
      "test_num_batches: 188\n",
      "Test-Acc: 9935.0\n",
      "acc_test: 0.16558333333333333\n",
      "Epoch 0: cost_train: 0.637483, acc_train: 0.612067, cost_valid: 0.470468, acc_valid: 0.165583\n",
      "test_set_size: 60000\n",
      "test_num_batches: 188\n",
      "Test-Acc: 9987.0\n",
      "acc_test: 0.16645\n",
      "Epoch 1: cost_train: 0.462294, acc_train: 0.662950, cost_valid: 0.447486, acc_valid: 0.166450\n",
      "test_set_size: 60000\n",
      "test_num_batches: 188\n",
      "Test-Acc: 10179.0\n",
      "acc_test: 0.16965\n",
      "Epoch 2: cost_train: 0.424875, acc_train: 0.675617, cost_valid: 0.419994, acc_valid: 0.169650\n",
      "test_set_size: 60000\n",
      "test_num_batches: 188\n",
      "Test-Acc: 10246.0\n",
      "acc_test: 0.17076666666666668\n",
      "Epoch 3: cost_train: 0.398271, acc_train: 0.682300, cost_valid: 0.400935, acc_valid: 0.170767\n",
      "test_set_size: 60000\n",
      "test_num_batches: 188\n",
      "Test-Acc: 10310.0\n",
      "acc_test: 0.17183333333333334\n",
      "Epoch 4: cost_train: 0.384923, acc_train: 0.686433, cost_valid: 0.385717, acc_valid: 0.171833\n",
      "test_set_size: 60000\n",
      "test_num_batches: 188\n",
      "Test-Acc: 10248.0\n",
      "acc_test: 0.1708\n",
      "Epoch 5: cost_train: 0.369117, acc_train: 0.690067, cost_valid: 0.403836, acc_valid: 0.170800\n",
      "test_set_size: 60000\n",
      "test_num_batches: 188\n"
     ]
    },
    {
     "ename": "KeyboardInterrupt",
     "evalue": "",
     "output_type": "error",
     "traceback": [
      "\u001B[0;31m---------------------------------------------------------------------------\u001B[0m",
      "\u001B[0;31mKeyboardInterrupt\u001B[0m                         Traceback (most recent call last)",
      "Input \u001B[0;32mIn [53]\u001B[0m, in \u001B[0;36m<module>\u001B[0;34m\u001B[0m\n\u001B[1;32m     15\u001B[0m train_loader \u001B[38;5;241m=\u001B[39m DataLoader(dataset\u001B[38;5;241m=\u001B[39mtraining_data, shuffle\u001B[38;5;241m=\u001B[39m\u001B[38;5;28;01mFalse\u001B[39;00m, batch_size\u001B[38;5;241m=\u001B[39mbatchsize, sampler\u001B[38;5;241m=\u001B[39mtrain_sampler)\n\u001B[1;32m     16\u001B[0m validation_loader \u001B[38;5;241m=\u001B[39m DataLoader(dataset\u001B[38;5;241m=\u001B[39mtraining_data, shuffle\u001B[38;5;241m=\u001B[39m\u001B[38;5;28;01mFalse\u001B[39;00m, batch_size\u001B[38;5;241m=\u001B[39mbatchsize, sampler\u001B[38;5;241m=\u001B[39mval_sampler)\n\u001B[0;32m---> 18\u001B[0m results[fold] \u001B[38;5;241m=\u001B[39m \u001B[43mtrain_eval\u001B[49m\u001B[43m(\u001B[49m\u001B[43mnepochs\u001B[49m\u001B[43m,\u001B[49m\u001B[43m \u001B[49m\u001B[43m_model\u001B[49m\u001B[43m,\u001B[49m\u001B[43m \u001B[49m\u001B[43mlr\u001B[49m\u001B[43m,\u001B[49m\u001B[43m \u001B[49m\u001B[43mtrain_loader\u001B[49m\u001B[43m,\u001B[49m\u001B[43m \u001B[49m\u001B[43mvalidation_loader\u001B[49m\u001B[43m,\u001B[49m\u001B[43m \u001B[49m\u001B[43mcost_fn\u001B[49m\u001B[43m)\u001B[49m\n",
      "Input \u001B[0;32mIn [37]\u001B[0m, in \u001B[0;36mtrain_eval\u001B[0;34m(nepochs, model, lr, training_loader, validation_loader, cost_fn)\u001B[0m\n\u001B[1;32m     43\u001B[0m acc_train \u001B[38;5;241m=\u001B[39m acc_train \u001B[38;5;241m/\u001B[39m train_set_size\n\u001B[1;32m     45\u001B[0m \u001B[38;5;66;03m# evaluate validation cost and accuracy\u001B[39;00m\n\u001B[0;32m---> 46\u001B[0m cost_valid, acc_valid \u001B[38;5;241m=\u001B[39m \u001B[43mtest_eval\u001B[49m\u001B[43m(\u001B[49m\u001B[43mmodel\u001B[49m\u001B[43m,\u001B[49m\u001B[43m \u001B[49m\u001B[43mvalidation_loader\u001B[49m\u001B[43m)\u001B[49m\n\u001B[1;32m     48\u001B[0m \u001B[38;5;66;03m# store result\u001B[39;00m\n\u001B[1;32m     49\u001B[0m cost_hist_train\u001B[38;5;241m.\u001B[39mappend(cost_train)\n",
      "Input \u001B[0;32mIn [52]\u001B[0m, in \u001B[0;36mtest_eval\u001B[0;34m(model, test_loader)\u001B[0m\n\u001B[1;32m     12\u001B[0m \u001B[38;5;28;01mwith\u001B[39;00m torch\u001B[38;5;241m.\u001B[39mno_grad():\n\u001B[1;32m     13\u001B[0m     \u001B[38;5;28;01mfor\u001B[39;00m valid_batch_idx, (X, Y) \u001B[38;5;129;01min\u001B[39;00m \u001B[38;5;28menumerate\u001B[39m(test_loader):\n\u001B[0;32m---> 14\u001B[0m         pred \u001B[38;5;241m=\u001B[39m \u001B[43mmodel\u001B[49m\u001B[43m(\u001B[49m\u001B[43mX\u001B[49m\u001B[43m)\u001B[49m\n\u001B[1;32m     15\u001B[0m         cost_test \u001B[38;5;241m+\u001B[39m\u001B[38;5;241m=\u001B[39m cost_ce(pred, Y)\u001B[38;5;241m.\u001B[39mitem()\n\u001B[1;32m     16\u001B[0m         acc_test \u001B[38;5;241m+\u001B[39m\u001B[38;5;241m=\u001B[39m (Y \u001B[38;5;241m==\u001B[39m pred\u001B[38;5;241m.\u001B[39margmax(dim\u001B[38;5;241m=\u001B[39m\u001B[38;5;241m1\u001B[39m))\u001B[38;5;241m.\u001B[39mtype(torch\u001B[38;5;241m.\u001B[39mfloat)\u001B[38;5;241m.\u001B[39msum()\u001B[38;5;241m.\u001B[39mitem()\n",
      "File \u001B[0;32m~/Documents/MSE_Projects/deep_learning/venv/lib/python3.9/site-packages/torch/nn/modules/module.py:1102\u001B[0m, in \u001B[0;36mModule._call_impl\u001B[0;34m(self, *input, **kwargs)\u001B[0m\n\u001B[1;32m   1098\u001B[0m \u001B[38;5;66;03m# If we don't have any hooks, we want to skip the rest of the logic in\u001B[39;00m\n\u001B[1;32m   1099\u001B[0m \u001B[38;5;66;03m# this function, and just call forward.\u001B[39;00m\n\u001B[1;32m   1100\u001B[0m \u001B[38;5;28;01mif\u001B[39;00m \u001B[38;5;129;01mnot\u001B[39;00m (\u001B[38;5;28mself\u001B[39m\u001B[38;5;241m.\u001B[39m_backward_hooks \u001B[38;5;129;01mor\u001B[39;00m \u001B[38;5;28mself\u001B[39m\u001B[38;5;241m.\u001B[39m_forward_hooks \u001B[38;5;129;01mor\u001B[39;00m \u001B[38;5;28mself\u001B[39m\u001B[38;5;241m.\u001B[39m_forward_pre_hooks \u001B[38;5;129;01mor\u001B[39;00m _global_backward_hooks\n\u001B[1;32m   1101\u001B[0m         \u001B[38;5;129;01mor\u001B[39;00m _global_forward_hooks \u001B[38;5;129;01mor\u001B[39;00m _global_forward_pre_hooks):\n\u001B[0;32m-> 1102\u001B[0m     \u001B[38;5;28;01mreturn\u001B[39;00m \u001B[43mforward_call\u001B[49m\u001B[43m(\u001B[49m\u001B[38;5;241;43m*\u001B[39;49m\u001B[38;5;28;43minput\u001B[39;49m\u001B[43m,\u001B[49m\u001B[43m \u001B[49m\u001B[38;5;241;43m*\u001B[39;49m\u001B[38;5;241;43m*\u001B[39;49m\u001B[43mkwargs\u001B[49m\u001B[43m)\u001B[49m\n\u001B[1;32m   1103\u001B[0m \u001B[38;5;66;03m# Do not call functions when jit is used\u001B[39;00m\n\u001B[1;32m   1104\u001B[0m full_backward_hooks, non_full_backward_hooks \u001B[38;5;241m=\u001B[39m [], []\n",
      "File \u001B[0;32m~/Documents/MSE_Projects/deep_learning/venv/lib/python3.9/site-packages/torch/nn/modules/container.py:141\u001B[0m, in \u001B[0;36mSequential.forward\u001B[0;34m(self, input)\u001B[0m\n\u001B[1;32m    139\u001B[0m \u001B[38;5;28;01mdef\u001B[39;00m \u001B[38;5;21mforward\u001B[39m(\u001B[38;5;28mself\u001B[39m, \u001B[38;5;28minput\u001B[39m):\n\u001B[1;32m    140\u001B[0m     \u001B[38;5;28;01mfor\u001B[39;00m module \u001B[38;5;129;01min\u001B[39;00m \u001B[38;5;28mself\u001B[39m:\n\u001B[0;32m--> 141\u001B[0m         \u001B[38;5;28minput\u001B[39m \u001B[38;5;241m=\u001B[39m \u001B[43mmodule\u001B[49m\u001B[43m(\u001B[49m\u001B[38;5;28;43minput\u001B[39;49m\u001B[43m)\u001B[49m\n\u001B[1;32m    142\u001B[0m     \u001B[38;5;28;01mreturn\u001B[39;00m \u001B[38;5;28minput\u001B[39m\n",
      "File \u001B[0;32m~/Documents/MSE_Projects/deep_learning/venv/lib/python3.9/site-packages/torch/nn/modules/module.py:1102\u001B[0m, in \u001B[0;36mModule._call_impl\u001B[0;34m(self, *input, **kwargs)\u001B[0m\n\u001B[1;32m   1098\u001B[0m \u001B[38;5;66;03m# If we don't have any hooks, we want to skip the rest of the logic in\u001B[39;00m\n\u001B[1;32m   1099\u001B[0m \u001B[38;5;66;03m# this function, and just call forward.\u001B[39;00m\n\u001B[1;32m   1100\u001B[0m \u001B[38;5;28;01mif\u001B[39;00m \u001B[38;5;129;01mnot\u001B[39;00m (\u001B[38;5;28mself\u001B[39m\u001B[38;5;241m.\u001B[39m_backward_hooks \u001B[38;5;129;01mor\u001B[39;00m \u001B[38;5;28mself\u001B[39m\u001B[38;5;241m.\u001B[39m_forward_hooks \u001B[38;5;129;01mor\u001B[39;00m \u001B[38;5;28mself\u001B[39m\u001B[38;5;241m.\u001B[39m_forward_pre_hooks \u001B[38;5;129;01mor\u001B[39;00m _global_backward_hooks\n\u001B[1;32m   1101\u001B[0m         \u001B[38;5;129;01mor\u001B[39;00m _global_forward_hooks \u001B[38;5;129;01mor\u001B[39;00m _global_forward_pre_hooks):\n\u001B[0;32m-> 1102\u001B[0m     \u001B[38;5;28;01mreturn\u001B[39;00m \u001B[43mforward_call\u001B[49m\u001B[43m(\u001B[49m\u001B[38;5;241;43m*\u001B[39;49m\u001B[38;5;28;43minput\u001B[39;49m\u001B[43m,\u001B[49m\u001B[43m \u001B[49m\u001B[38;5;241;43m*\u001B[39;49m\u001B[38;5;241;43m*\u001B[39;49m\u001B[43mkwargs\u001B[49m\u001B[43m)\u001B[49m\n\u001B[1;32m   1103\u001B[0m \u001B[38;5;66;03m# Do not call functions when jit is used\u001B[39;00m\n\u001B[1;32m   1104\u001B[0m full_backward_hooks, non_full_backward_hooks \u001B[38;5;241m=\u001B[39m [], []\n",
      "File \u001B[0;32m~/Documents/MSE_Projects/deep_learning/venv/lib/python3.9/site-packages/torch/nn/modules/linear.py:103\u001B[0m, in \u001B[0;36mLinear.forward\u001B[0;34m(self, input)\u001B[0m\n\u001B[1;32m    102\u001B[0m \u001B[38;5;28;01mdef\u001B[39;00m \u001B[38;5;21mforward\u001B[39m(\u001B[38;5;28mself\u001B[39m, \u001B[38;5;28minput\u001B[39m: Tensor) \u001B[38;5;241m-\u001B[39m\u001B[38;5;241m>\u001B[39m Tensor:\n\u001B[0;32m--> 103\u001B[0m     \u001B[38;5;28;01mreturn\u001B[39;00m \u001B[43mF\u001B[49m\u001B[38;5;241;43m.\u001B[39;49m\u001B[43mlinear\u001B[49m\u001B[43m(\u001B[49m\u001B[38;5;28;43minput\u001B[39;49m\u001B[43m,\u001B[49m\u001B[43m \u001B[49m\u001B[38;5;28;43mself\u001B[39;49m\u001B[38;5;241;43m.\u001B[39;49m\u001B[43mweight\u001B[49m\u001B[43m,\u001B[49m\u001B[43m \u001B[49m\u001B[38;5;28;43mself\u001B[39;49m\u001B[38;5;241;43m.\u001B[39;49m\u001B[43mbias\u001B[49m\u001B[43m)\u001B[49m\n",
      "File \u001B[0;32m~/Documents/MSE_Projects/deep_learning/venv/lib/python3.9/site-packages/torch/nn/functional.py:1848\u001B[0m, in \u001B[0;36mlinear\u001B[0;34m(input, weight, bias)\u001B[0m\n\u001B[1;32m   1846\u001B[0m \u001B[38;5;28;01mif\u001B[39;00m has_torch_function_variadic(\u001B[38;5;28minput\u001B[39m, weight, bias):\n\u001B[1;32m   1847\u001B[0m     \u001B[38;5;28;01mreturn\u001B[39;00m handle_torch_function(linear, (\u001B[38;5;28minput\u001B[39m, weight, bias), \u001B[38;5;28minput\u001B[39m, weight, bias\u001B[38;5;241m=\u001B[39mbias)\n\u001B[0;32m-> 1848\u001B[0m \u001B[38;5;28;01mreturn\u001B[39;00m \u001B[43mtorch\u001B[49m\u001B[38;5;241;43m.\u001B[39;49m\u001B[43m_C\u001B[49m\u001B[38;5;241;43m.\u001B[39;49m\u001B[43m_nn\u001B[49m\u001B[38;5;241;43m.\u001B[39;49m\u001B[43mlinear\u001B[49m\u001B[43m(\u001B[49m\u001B[38;5;28;43minput\u001B[39;49m\u001B[43m,\u001B[49m\u001B[43m \u001B[49m\u001B[43mweight\u001B[49m\u001B[43m,\u001B[49m\u001B[43m \u001B[49m\u001B[43mbias\u001B[49m\u001B[43m)\u001B[49m\n",
      "\u001B[0;31mKeyboardInterrupt\u001B[0m: "
     ]
    }
   ],
   "source": [
    "# Training\n",
    "\n",
    "kfold = KFold(n_splits=nfolds, shuffle=True)\n",
    "\n",
    "\n",
    "\n",
    "for fold, (train_idx, valid_idx) in enumerate(kfold.split(training_data)):\n",
    "\n",
    "    print(f'FOLD {fold}')\n",
    "    print('--------------------------------')\n",
    "\n",
    "    _model = create_model()\n",
    "\n",
    "    train_sampler = torch.utils.data.SubsetRandomSampler(train_idx)\n",
    "    val_sampler = torch.utils.data.SubsetRandomSampler(valid_idx)\n",
    "\n",
    "    train_loader = DataLoader(dataset=training_data, shuffle=False, batch_size=batchsize, sampler=train_sampler)\n",
    "    validation_loader = DataLoader(dataset=training_data, shuffle=False, batch_size=batchsize, sampler=val_sampler)\n",
    "\n",
    "    results[fold] = train_eval(nepochs, _model, lr, train_loader, validation_loader, cost_fn)"
   ]
  },
  {
   "cell_type": "code",
   "execution_count": 21,
   "id": "12d5529f-870f-4178-9f7e-d1a9fdd332bb",
   "metadata": {},
   "outputs": [
    {
     "name": "stdout",
     "output_type": "stream",
     "text": [
      "FOLD 0\n",
      "--------------------------------\n",
      "Epoch 0: 0.009533, 0.816479, 0.005067, 0.908250\n",
      "Epoch 1: 0.004786, 0.911417, 0.004595, 0.913250\n",
      "Epoch 2: 0.004079, 0.924083, 0.003734, 0.931750\n",
      "Epoch 3: 0.003527, 0.934562, 0.003279, 0.940417\n",
      "Epoch 4: 0.003100, 0.942771, 0.002905, 0.947750\n",
      "Epoch 5: 0.002739, 0.949458, 0.002679, 0.949167\n",
      "Epoch 6: 0.002446, 0.953958, 0.002566, 0.951500\n",
      "Epoch 7: 0.002213, 0.959521, 0.002299, 0.956417\n",
      "Epoch 8: 0.002010, 0.963104, 0.002167, 0.959917\n",
      "Epoch 9: 0.001843, 0.965812, 0.002029, 0.962417\n",
      "Epoch 10: 0.001693, 0.968854, 0.001872, 0.964167\n",
      "Epoch 11: 0.001558, 0.971187, 0.001840, 0.966333\n",
      "Epoch 12: 0.001443, 0.973583, 0.001840, 0.963917\n",
      "Epoch 13: 0.001345, 0.976000, 0.001692, 0.968833\n",
      "Epoch 14: 0.001253, 0.977563, 0.001608, 0.969500\n",
      "Epoch 15: 0.001176, 0.978958, 0.001563, 0.970917\n",
      "Epoch 16: 0.001100, 0.980313, 0.001515, 0.970750\n",
      "Epoch 17: 0.001035, 0.982000, 0.001499, 0.971000\n",
      "Epoch 18: 0.000970, 0.983042, 0.001415, 0.972167\n",
      "Epoch 19: 0.000916, 0.984021, 0.001406, 0.972333\n",
      "FOLD 1\n",
      "--------------------------------\n",
      "Epoch 0: 0.009479, 0.817625, 0.005532, 0.898167\n",
      "Epoch 1: 0.004736, 0.910917, 0.004570, 0.917833\n",
      "Epoch 2: 0.004060, 0.924542, 0.004251, 0.921417\n",
      "Epoch 3: 0.003545, 0.933312, 0.003604, 0.934250\n",
      "Epoch 4: 0.003105, 0.943083, 0.003350, 0.937250\n",
      "Epoch 5: 0.002755, 0.948542, 0.003073, 0.941583\n",
      "Epoch 6: 0.002464, 0.955271, 0.002754, 0.948417\n",
      "Epoch 7: 0.002224, 0.959479, 0.002517, 0.952333\n",
      "Epoch 8: 0.002024, 0.963167, 0.002389, 0.955167\n",
      "Epoch 9: 0.001856, 0.965938, 0.002220, 0.957667\n",
      "Epoch 10: 0.001708, 0.969375, 0.002075, 0.960417\n",
      "Epoch 11: 0.001579, 0.972063, 0.002036, 0.961250\n",
      "Epoch 12: 0.001461, 0.973750, 0.001927, 0.962333\n",
      "Epoch 13: 0.001361, 0.975708, 0.001817, 0.964750\n",
      "Epoch 14: 0.001275, 0.977417, 0.001772, 0.965750\n",
      "Epoch 15: 0.001191, 0.978958, 0.001724, 0.967500\n",
      "Epoch 16: 0.001119, 0.980187, 0.001683, 0.967583\n",
      "Epoch 17: 0.001050, 0.980979, 0.001652, 0.966667\n",
      "Epoch 18: 0.000990, 0.982396, 0.001617, 0.969500\n",
      "Epoch 19: 0.000934, 0.983708, 0.001575, 0.968833\n",
      "FOLD 2\n",
      "--------------------------------\n",
      "Epoch 0: 0.009375, 0.819292, 0.005410, 0.898333\n",
      "Epoch 1: 0.004712, 0.911396, 0.004667, 0.912500\n",
      "Epoch 2: 0.004008, 0.926000, 0.004026, 0.924583\n",
      "Epoch 3: 0.003463, 0.935750, 0.003574, 0.932583\n",
      "Epoch 4: 0.003031, 0.944667, 0.003239, 0.939500\n",
      "Epoch 5: 0.002688, 0.950438, 0.002881, 0.944583\n",
      "Epoch 6: 0.002420, 0.955521, 0.002714, 0.949667\n",
      "Epoch 7: 0.002185, 0.959667, 0.002512, 0.952333\n",
      "Epoch 8: 0.001993, 0.964021, 0.002397, 0.955417\n",
      "Epoch 9: 0.001830, 0.966292, 0.002206, 0.958083\n",
      "Epoch 10: 0.001688, 0.968979, 0.002094, 0.960667\n",
      "Epoch 11: 0.001557, 0.972083, 0.002014, 0.961417\n",
      "Epoch 12: 0.001447, 0.973917, 0.001925, 0.963833\n",
      "Epoch 13: 0.001343, 0.975938, 0.001857, 0.964083\n",
      "Epoch 14: 0.001263, 0.977792, 0.001788, 0.965333\n",
      "Epoch 15: 0.001183, 0.979000, 0.001727, 0.966000\n",
      "Epoch 16: 0.001113, 0.979437, 0.001720, 0.966167\n",
      "Epoch 17: 0.001042, 0.981396, 0.001690, 0.967750\n",
      "Epoch 18: 0.000978, 0.982458, 0.001640, 0.967500\n",
      "Epoch 19: 0.000925, 0.983833, 0.001622, 0.970000\n",
      "FOLD 3\n",
      "--------------------------------\n",
      "Epoch 0: 0.009367, 0.820646, 0.005405, 0.899750\n",
      "Epoch 1: 0.004686, 0.912792, 0.004815, 0.908750\n",
      "Epoch 2: 0.004005, 0.926063, 0.004197, 0.921333\n",
      "Epoch 3: 0.003493, 0.935208, 0.003803, 0.927417\n",
      "Epoch 4: 0.003055, 0.943813, 0.003332, 0.937583\n",
      "Epoch 5: 0.002698, 0.950354, 0.003063, 0.943083\n",
      "Epoch 6: 0.002416, 0.955958, 0.002811, 0.947583\n",
      "Epoch 7: 0.002168, 0.959812, 0.002635, 0.953250\n",
      "Epoch 8: 0.001962, 0.963792, 0.002509, 0.953250\n",
      "Epoch 9: 0.001791, 0.967250, 0.002454, 0.954417\n",
      "Epoch 10: 0.001642, 0.970229, 0.002230, 0.958250\n",
      "Epoch 11: 0.001518, 0.972333, 0.002135, 0.960667\n",
      "Epoch 12: 0.001400, 0.974729, 0.002077, 0.961333\n",
      "Epoch 13: 0.001305, 0.976646, 0.002024, 0.961750\n",
      "Epoch 14: 0.001216, 0.978187, 0.001974, 0.961583\n",
      "Epoch 15: 0.001137, 0.980271, 0.001846, 0.963917\n",
      "Epoch 16: 0.001066, 0.980917, 0.001811, 0.965333\n",
      "Epoch 17: 0.000996, 0.982229, 0.001769, 0.965917\n",
      "Epoch 18: 0.000935, 0.984042, 0.001744, 0.966333\n",
      "Epoch 19: 0.000887, 0.984458, 0.001696, 0.967083\n",
      "FOLD 4\n",
      "--------------------------------\n",
      "Epoch 0: 0.009619, 0.815917, 0.004916, 0.908000\n",
      "Epoch 1: 0.004795, 0.909771, 0.004168, 0.922583\n",
      "Epoch 2: 0.004073, 0.924375, 0.003591, 0.933167\n",
      "Epoch 3: 0.003519, 0.934979, 0.003245, 0.943083\n",
      "Epoch 4: 0.003093, 0.942104, 0.002855, 0.949417\n",
      "Epoch 5: 0.002733, 0.949229, 0.002608, 0.954167\n",
      "Epoch 6: 0.002457, 0.953396, 0.002460, 0.955083\n",
      "Epoch 7: 0.002215, 0.958521, 0.002237, 0.959583\n",
      "Epoch 8: 0.002015, 0.962500, 0.002093, 0.962083\n",
      "Epoch 9: 0.001851, 0.965625, 0.001965, 0.964583\n",
      "Epoch 10: 0.001705, 0.968229, 0.001867, 0.965583\n",
      "Epoch 11: 0.001571, 0.971000, 0.001809, 0.967333\n",
      "Epoch 12: 0.001460, 0.973146, 0.001723, 0.970250\n",
      "Epoch 13: 0.001361, 0.975125, 0.001685, 0.969000\n",
      "Epoch 14: 0.001271, 0.976896, 0.001603, 0.970333\n",
      "Epoch 15: 0.001190, 0.978896, 0.001537, 0.971667\n",
      "Epoch 16: 0.001116, 0.980146, 0.001514, 0.972167\n",
      "Epoch 17: 0.001054, 0.980979, 0.001478, 0.972667\n",
      "Epoch 18: 0.000993, 0.983021, 0.001433, 0.972500\n",
      "Epoch 19: 0.000937, 0.983854, 0.001430, 0.972917\n"
     ]
    }
   ],
   "source": [
    "for fold, (train_ids, valid_ids) in enumerate(kfold.split(training_data)):\n",
    "\n",
    "    print(f'FOLD {fold}')\n",
    "    print('--------------------------------')\n",
    "\n",
    "    ....\n",
    "    \n",
    "    \n",
    "    results[fold] = train_eval(nepochs, model, lr, trainloader, validloader, cost_fn) "
   ]
  },
  {
   "cell_type": "markdown",
   "id": "3275d759-f9a9-42ac-93ae-049787404f0b",
   "metadata": {},
   "source": [
    "### Prepare output plots"
   ]
  },
  {
   "cell_type": "code",
   "execution_count": 50,
   "outputs": [
    {
     "name": "stderr",
     "output_type": "stream",
     "text": [
      "/var/folders/58/stlxrq7s6756j83tj45vg2480000gn/T/ipykernel_78602/612322057.py:7: UserWarning: marker is redundantly defined by the 'marker' keyword argument and the fmt string \"ro\" (-> marker='o'). The keyword argument will take precedence.\n",
      "  plt.plot(results[fold][3], \"ro\", marker=\"+\", color=colors[fold])\n",
      "/var/folders/58/stlxrq7s6756j83tj45vg2480000gn/T/ipykernel_78602/612322057.py:7: UserWarning: color is redundantly defined by the 'color' keyword argument and the fmt string \"ro\" (-> color='r'). The keyword argument will take precedence.\n",
      "  plt.plot(results[fold][3], \"ro\", marker=\"+\", color=colors[fold])\n"
     ]
    },
    {
     "data": {
      "text/plain": "<Figure size 864x576 with 1 Axes>",
      "image/png": "[encoded data removed]"
     },
     "metadata": {
      "needs_background": "light"
     },
     "output_type": "display_data"
    },
    {
     "data": {
      "text/plain": "Text(0.5, 1.0, 'Accuracy')"
     },
     "execution_count": 50,
     "metadata": {},
     "output_type": "execute_result"
    },
    {
     "data": {
      "text/plain": "<Figure size 864x576 with 1 Axes>",
      "image/png": "[encoded data removed]"
     },
     "metadata": {
      "needs_background": "light"
     },
     "output_type": "display_data"
    }
   ],
   "source": [
    "plt.figure(1, figsize=(12,8))\n",
    "\n",
    "colors = [\"b\",\"r\",\"m\",\"g\",\"y\"]\n",
    "colors_test = [\"b-\",\"r-\",\"m-\",\"g-\",\"y-\"]\n",
    "\n",
    "for fold in range(len(results)):\n",
    "    plt.plot(results[fold][3], \"ro\", marker=\"+\", color=colors[fold])\n",
    "\n",
    "plt.xlabel(\"Epoch\", fontsize=14)\n",
    "plt.ylabel(\"Accuracy\", fontsize=14)\n",
    "plt.title(\"Accuracy\", fontsize=18)\n",
    "plt.show()\n",
    "\n",
    "\n",
    "\n",
    "plt.figure(1, figsize=(12,8))\n",
    "scores = np.array([])\n",
    "scores_std = np.array([])\n",
    "for epoch in range(nepochs):\n",
    "\n",
    "    _values = []\n",
    "    for fold in range(len(results)):\n",
    "        _values.append(results[fold][3][epoch])\n",
    "\n",
    "    # calculate score and standard deviation\n",
    "    scores = np.append(scores, np.mean(_values))\n",
    "    scores_std = np.append(scores_std, np.std(_values))\n",
    "\n",
    "plt.plot(scores)\n",
    "plt.fill_between(range(0, len(scores)), scores + scores_std, scores - scores_std, alpha=0.15, color='blue')\n",
    "\n",
    "plt.xlabel(\"Epoch\", fontsize=14)\n",
    "plt.ylabel(\"Accuracy\", fontsize=14)\n",
    "plt.title(\"Accuracy\", fontsize=18)\n",
    "\n"
   ],
   "metadata": {
    "collapsed": false,
    "pycharm": {
     "name": "#%%\n"
    }
   }
  },
  {
   "cell_type": "code",
   "execution_count": 46,
   "outputs": [
    {
     "name": "stderr",
     "output_type": "stream",
     "text": [
      "/var/folders/58/stlxrq7s6756j83tj45vg2480000gn/T/ipykernel_78602/691777365.py:7: UserWarning: marker is redundantly defined by the 'marker' keyword argument and the fmt string \"ro\" (-> marker='o'). The keyword argument will take precedence.\n",
      "  plt.plot(results[fold][2], \"ro\", marker=\"+\", color=colors[fold])\n",
      "/var/folders/58/stlxrq7s6756j83tj45vg2480000gn/T/ipykernel_78602/691777365.py:7: UserWarning: color is redundantly defined by the 'color' keyword argument and the fmt string \"ro\" (-> color='r'). The keyword argument will take precedence.\n",
      "  plt.plot(results[fold][2], \"ro\", marker=\"+\", color=colors[fold])\n"
     ]
    },
    {
     "data": {
      "text/plain": "<Figure size 864x576 with 1 Axes>",
      "image/png": "[encoded data removed]"
     },
     "metadata": {
      "needs_background": "light"
     },
     "output_type": "display_data"
    },
    {
     "data": {
      "text/plain": "Text(0.5, 1.0, 'Accuracy')"
     },
     "execution_count": 46,
     "metadata": {},
     "output_type": "execute_result"
    },
    {
     "data": {
      "text/plain": "<Figure size 864x576 with 1 Axes>",
      "image/png": "[encoded data removed]"
     },
     "metadata": {
      "needs_background": "light"
     },
     "output_type": "display_data"
    }
   ],
   "source": [
    "plt.figure(1, figsize=(12,8))\n",
    "\n",
    "colors = [\"b\",\"r\",\"m\",\"g\",\"y\"]\n",
    "colors_test = [\"b-\",\"r-\",\"m-\",\"g-\",\"y-\"]\n",
    "\n",
    "for fold in range(len(results)):\n",
    "    plt.plot(results[fold][2], \"ro\", marker=\"+\", color=colors[fold])\n",
    "\n",
    "plt.xlabel(\"Epoch\", fontsize=18)\n",
    "plt.ylabel(\"Accuracy\", fontsize=18)\n",
    "plt.title(\"Accuracy\", fontsize=18)\n",
    "plt.show()\n",
    "\n",
    "\n",
    "\n",
    "plt.figure(1, figsize=(12,8))\n",
    "scores = np.array([])\n",
    "scores_std = np.array([])\n",
    "for epoch in range(nepochs):\n",
    "\n",
    "    _values = []\n",
    "    for fold in range(len(results)):\n",
    "        _values.append(results[fold][2][epoch])\n",
    "\n",
    "    # calculate score and standard deviation\n",
    "    scores = np.append(scores, np.mean(_values))\n",
    "    scores_std = np.append(scores_std, np.std(_values))\n",
    "\n",
    "plt.plot(scores)\n",
    "plt.fill_between(range(0, len(scores)), scores + scores_std, scores - scores_std, alpha=0.15, color='blue')\n",
    "\n",
    "plt.xlabel(\"Epoch\", fontsize=18)\n",
    "plt.ylabel(\"Accuracy\", fontsize=18)\n",
    "plt.title(\"Accuracy\", fontsize=18)"
   ],
   "metadata": {
    "collapsed": false,
    "pycharm": {
     "name": "#%%\n"
    }
   }
  },
  {
   "cell_type": "code",
   "execution_count": null,
   "id": "598f6b4c-945e-42b3-8672-d4939748ab05",
   "metadata": {},
   "outputs": [],
   "source": []
  }
 ],
 "metadata": {
  "kernelspec": {
   "display_name": "Python 3 (ipykernel)",
   "language": "python",
   "name": "python3"
  },
  "language_info": {
   "codemirror_mode": {
    "name": "ipython",
    "version": 3
   },
   "file_extension": ".py",
   "mimetype": "text/x-python",
   "name": "python",
   "nbconvert_exporter": "python",
   "pygments_lexer": "ipython3",
   "version": "3.9.7"
  }
 },
 "nbformat": 4,
 "nbformat_minor": 5
}