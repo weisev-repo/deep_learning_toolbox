{
 "cells": [
  {
   "cell_type": "markdown",
   "id": "79390cf2",
   "metadata": {},
   "source": [
    "# Ex 2 - Transfer learning\n",
    "##### Group: X\n",
    "###### Student 1: \n",
    "###### Student 2: \n",
    "###### Student 3: "
   ]
  },
  {
   "cell_type": "code",
   "execution_count": null,
   "id": "0cf7883b",
   "metadata": {},
   "outputs": [],
   "source": [
    "import os\n",
    "import numpy as np\n",
    "\n",
    "import tensorflow as tf\n",
    "from tensorflow import keras\n",
    "import tensorflow_datasets as tfds  # first: pip install tensorflow_datasets\n",
    "\n",
    "from sklearn.metrics import accuracy_score"
   ]
  },
  {
   "cell_type": "markdown",
   "id": "477410eb",
   "metadata": {},
   "source": [
    "## Load the Dataset and visualize it"
   ]
  },
  {
   "cell_type": "code",
   "execution_count": null,
   "id": "11543855",
   "metadata": {},
   "outputs": [],
   "source": [
    "# Download and split the food101 dataset\n",
    "(train_ds, validation_ds, test_ds), info = tfds.load(\n",
    "    \"food101\",\n",
    "    split=[\"train\", \"validation[:50%]\", \"validation[50%:]\"],\n",
    "    as_supervised=True,\n",
    "    with_info=True\n",
    ")"
   ]
  },
  {
   "cell_type": "code",
   "execution_count": null,
   "id": "0f1d84a5",
   "metadata": {},
   "outputs": [],
   "source": [
    "# Filter the dataset to keep the first 20 classes only.\n",
    "N_CLASSES = 20\n",
    "CLASS_NAMES = info.features['label'].names[:N_CLASSES]\n",
    "\n",
    "train_ds = train_ds.filter(lambda img, label: label < N_CLASSES)\n",
    "validation_ds = validation_ds.filter(lambda img, label: label < N_CLASSES)\n",
    "test_ds = test_ds.filter(lambda img, label: label < N_CLASSES)"
   ]
  },
  {
   "cell_type": "code",
   "execution_count": null,
   "id": "299838b2",
   "metadata": {},
   "outputs": [],
   "source": [
    "# This step takes too much time. It is not madatory to execute it.\n",
    "print(\"Training samples: %d\" % train_ds.reduce(0, lambda x,_: x+1).numpy())\n",
    "print(\"Validation samples: %d\" % validation_ds.reduce(0, lambda x,_: x+1).numpy())\n",
    "print(\"Tests samples: %d\" % validation_ds.reduce(0, lambda x,_: x+1).numpy())"
   ]
  },
  {
   "cell_type": "code",
   "execution_count": null,
   "id": "4e0d6d2d",
   "metadata": {},
   "outputs": [],
   "source": [
    "plt.figure(figsize=(10, 6))\n",
    "for i, (image, label) in enumerate(train_ds.take(6)):\n",
    "    ax = plt.subplot(2, 3, i + 1)\n",
    "    plt.imshow(image)\n",
    "    plt.title(CLASS_NAMES[label])\n",
    "    plt.axis(\"off\")"
   ]
  },
  {
   "cell_type": "markdown",
   "id": "e41dc5cc",
   "metadata": {},
   "source": [
    "## Resize and normalize"
   ]
  },
  {
   "cell_type": "code",
   "execution_count": null,
   "id": "01366e8a",
   "metadata": {},
   "outputs": [],
   "source": [
    "# TODO Resize the images in the training, validation and test set\n",
    "train_ds = TODO...\n",
    "validation_ds = TODO...\n",
    "test_ds = TODO..."
   ]
  },
  {
   "cell_type": "code",
   "execution_count": null,
   "id": "71d0af46",
   "metadata": {},
   "outputs": [],
   "source": [
    "# Normalize the images\n",
    "train_ds = TODO...\n",
    "validation_ds = TODO...\n",
    "test_ds = TODO..."
   ]
  },
  {
   "cell_type": "code",
   "execution_count": null,
   "id": "db17333c",
   "metadata": {},
   "outputs": [],
   "source": [
    "# One hot encode the labels\n",
    "train_ds = TODO...\n",
    "validation_ds = TODO...\n",
    "test_ds = TODO..."
   ]
  },
  {
   "cell_type": "markdown",
   "id": "64c60cda",
   "metadata": {},
   "source": [
    "## Data-Augmentation"
   ]
  },
  {
   "cell_type": "code",
   "execution_count": null,
   "id": "a5c817ca",
   "metadata": {},
   "outputs": [],
   "source": [
    "# Optional define/implements data-augmentation"
   ]
  },
  {
   "cell_type": "markdown",
   "id": "8894680d",
   "metadata": {},
   "source": [
    "## Training\n",
    "### Step 1: Only train the head of the network"
   ]
  },
  {
   "cell_type": "code",
   "execution_count": null,
   "id": "4fa486f3",
   "metadata": {},
   "outputs": [],
   "source": [
    "%%time\n",
    "# Load the pretrained model from the available models: https://keras.io/api/applications/#available-models. \n",
    "# Load the imagenet weights but do not include the ImageNet classifier at the top.\n",
    "#\n",
    "# Tip, don't choose models that are too big because the training could take hours. \n",
    "# A model like mobilenet is more than enough for the exercise.\n",
    "\n",
    "base_model = TODO...\n",
    "\n",
    "# Freeze the base_model\n",
    "base_model.trainable = False\n",
    "\n",
    "# Create the model structure\n",
    "inputs = TODO...\n",
    "\n",
    "TODO...\n",
    "\n",
    "outputs = TODO...\n",
    "model = keras.Model(inputs, outputs)\n",
    "\n",
    "model.summary()"
   ]
  },
  {
   "cell_type": "code",
   "execution_count": null,
   "id": "2d9ed1e6",
   "metadata": {
    "scrolled": true
   },
   "outputs": [],
   "source": [
    "%%time\n",
    "\n",
    "# Compile the model with your optimizer, your loss and your metrics\n",
    "TODO...\n",
    "\n",
    "# Optional: Define and use callbacks\n",
    "TODO...\n",
    "\n",
    "step1_history = model.fit(train_ds, TODO...) # You should us a relatively big learning rate: 1e-3"
   ]
  },
  {
   "cell_type": "code",
   "execution_count": null,
   "id": "422b53f6",
   "metadata": {},
   "outputs": [],
   "source": [
    "def plot_history(history, metric):\n",
    "    plt.plot(history.history[metric])\n",
    "    plt.plot(history.history['val_'+metric])\n",
    "    plt.title('Model '+metric)\n",
    "    plt.ylabel(metric)\n",
    "    plt.xlabel('epoch')\n",
    "    plt.legend(['train', 'val'], loc='upper left')\n",
    "    plt.show()\n",
    "    \n",
    "plot_history(step1_history, 'loss')"
   ]
  },
  {
   "cell_type": "markdown",
   "id": "f665cb8f",
   "metadata": {},
   "source": [
    "### Step 2: Fine-Tune the whole model"
   ]
  },
  {
   "cell_type": "code",
   "execution_count": null,
   "id": "29e9cfb6",
   "metadata": {},
   "outputs": [],
   "source": [
    "%%time\n",
    "\n",
    "\n",
    "# Unfreeze the pretrained base. \n",
    "TODO...\n",
    "\n",
    "\n",
    "# Compile the model again\n",
    "TODO...\n",
    "\n",
    "\n",
    "# Retrain the model\n",
    "step2_history = model.fit(train_ds, TODO...) # You should us a small learning rate: for example 1e-5 or 1e-6"
   ]
  },
  {
   "cell_type": "code",
   "execution_count": null,
   "id": "3ed66c7c",
   "metadata": {},
   "outputs": [],
   "source": [
    "plot_history(step2_history, 'loss')"
   ]
  },
  {
   "cell_type": "markdown",
   "id": "aa4aaa61",
   "metadata": {},
   "source": [
    "## Test the fine-tuned model"
   ]
  },
  {
   "cell_type": "code",
   "execution_count": null,
   "id": "6ff32554",
   "metadata": {},
   "outputs": [],
   "source": [
    "%%time\n",
    "# Predict the test set\n",
    "y_pred = model.predict(test_ds, verbose=1)\n",
    "\n",
    "# De-encode the onehot encoded labels\n",
    "y_pred = np.argmax(y_pred, axis=1)\n",
    "y_true = np.concatenate([np.argmax(y.numpy(), axis=1) for x, y in test_ds], axis=0)"
   ]
  },
  {
   "cell_type": "code",
   "execution_count": null,
   "id": "c1118197",
   "metadata": {
    "scrolled": true
   },
   "outputs": [],
   "source": [
    "%%time\n",
    "\n",
    "# Accuracy\n",
    "acc = accuracy_score(y_true, y_pred)\n",
    "print(\"Accuracy:\", acc)"
   ]
  },
  {
   "cell_type": "code",
   "execution_count": null,
   "id": "595b7c72",
   "metadata": {
    "scrolled": false
   },
   "outputs": [],
   "source": [
    "def show_images_prediction(page=0):\n",
    "    test_examples = (np.concatenate([x.numpy() for x, y in test_ds])+1)/2*255\n",
    "    test_examples = test_examples.astype(\"uint32\")\n",
    "    \n",
    "    page_size = 20\n",
    "    nrows = 4\n",
    "    ncols = 5\n",
    "    fig, axes = plt.subplots(nrows=nrows, ncols=ncols, figsize=(12, 12))\n",
    "    fig.set_size_inches(20, 16)\n",
    "\n",
    "    start_i = page * page_size\n",
    "    for i, ax in enumerate(axes.flat):\n",
    "        im = ax.imshow(test_examples[i+start_i])\n",
    "        ax.set_axis_off()\n",
    "        ax.set_title(\"Pred: \"+CLASS_NAMES[y_pred[i+start_i]]+\"\\nTrue: \"+CLASS_NAMES[y_true[i+start_i]])\n",
    "        ax.xaxis.set_ticks([])\n",
    "        ax.yaxis.set_ticks([])\n",
    "\n",
    "    plt.show()\n",
    "show_images_prediction(2)"
   ]
  },
  {
   "cell_type": "code",
   "execution_count": null,
   "id": "3645d89b",
   "metadata": {},
   "outputs": [],
   "source": []
  }
 ],
 "metadata": {
  "kernelspec": {
   "display_name": "Python 3 (ipykernel)",
   "language": "python",
   "name": "python3"
  },
  "language_info": {
   "codemirror_mode": {
    "name": "ipython",
    "version": 3
   },
   "file_extension": ".py",
   "mimetype": "text/x-python",
   "name": "python",
   "nbconvert_exporter": "python",
   "pygments_lexer": "ipython3",
   "version": "3.8.5"
  }
 },
 "nbformat": 4,
 "nbformat_minor": 5
}